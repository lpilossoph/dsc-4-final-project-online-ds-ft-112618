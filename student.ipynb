{
 "cells": [
  {
   "cell_type": "markdown",
   "metadata": {},
   "source": [
    "## Final Project Submission\n",
    "\n",
    "Please fill out:\n",
    "* Leah Pilossoph \n",
    "* Student pace: full time\n",
    "* Scheduled project review date/time: 3/22/19 @ 3:00pm EST\n",
    "* Instructor name: Rafael Carrasco\n",
    "* Blog post URL: www.thedatarn.com\n"
   ]
  },
  {
   "cell_type": "markdown",
   "metadata": {},
   "source": [
    "# SKIN LESION RISK IDENTIFICATION\n",
    "\n",
    "# Table of Contents:\n",
    "## <a href='#Part_1'> Obtaining the Data</a> \n",
    "## <a href='#Part_2'> Scrubbing the Data</a>   \n",
    "## <a href='#Part_4'> Modeling the Data</a> \n",
    "## <a href='#Part_5'> Now, for the Final Model:)</a>\n",
    "## <a href='#Part_6'> Conclusions</a>\n",
    "## <a href='#Part_7'> Recommendations</a>\n",
    "## <a href='#Part_8'> Future Work</a>"
   ]
  },
  {
   "cell_type": "code",
   "execution_count": 573,
   "metadata": {},
   "outputs": [],
   "source": [
    "# Importing necessary libraries\n",
    "\n",
    "import pandas as pd\n",
    "import numpy as np\n",
    "from glob import glob\n",
    "import keras\n",
    "from keras import backend as K\n",
    "from keras.layers import Dropout\n",
    "import tensorflow\n",
    "from tensorflow.keras.layers import Dense, Dropout\n",
    "from tensorflow.keras.optimizers import Adam, SGD, Adamax\n",
    "from tensorflow.keras.metrics import categorical_crossentropy\n",
    "from tensorflow.keras.preprocessing.image import ImageDataGenerator\n",
    "from tensorflow.keras.models import Model\n",
    "from tensorflow.keras.callbacks import EarlyStopping, ReduceLROnPlateau, ModelCheckpoint\n",
    "from keras import optimizers\n",
    "import os\n",
    "from sklearn.utils import class_weight\n",
    "from keras import layers\n",
    "from keras import models\n",
    "from keras import regularizers\n",
    "from sklearn.metrics import confusion_matrix\n",
    "from sklearn.model_selection import train_test_split\n",
    "import itertools\n",
    "import shutil\n",
    "from keras.preprocessing import image\n",
    "import matplotlib.pyplot as plt\n",
    "from keras.applications import MobileNet\n",
    "from keras.preprocessing.image import ImageDataGenerator, array_to_img, img_to_array, load_img\n",
    "%matplotlib inline"
   ]
  },
  {
   "cell_type": "code",
   "execution_count": 2,
   "metadata": {},
   "outputs": [],
   "source": [
    "#creating directories\n",
    "base_dir = 'base_dir'\n",
    "os.mkdir(base_dir)\n",
    "#training directory:\n",
    "train_dir = os.path.join(base_dir, 'train_dir')\n",
    "os.mkdir(train_dir)\n",
    "#testing directory:\n",
    "test_dir = os.path.join(base_dir, 'test_dir')\n",
    "os.mkdir(test_dir)\n",
    "#splitting training directory for bening/malignant images:\n",
    "benign = os.path.join(train_dir, 'benign')\n",
    "os.mkdir(benign)\n",
    "malignant = os.path.join(train_dir, 'malignant')\n",
    "os.mkdir(malignant)\n",
    "benign = os.path.join(test_dir, 'benign')\n",
    "#splitting testing directory for bening/malignant images:\n",
    "os.mkdir(benign)\n",
    "malignant = os.path.join(test_dir, 'malignant')\n",
    "os.mkdir(malignant)"
   ]
  },
  {
   "cell_type": "markdown",
   "metadata": {},
   "source": [
    "<a id='Part_1'></a>"
   ]
  },
  {
   "cell_type": "markdown",
   "metadata": {},
   "source": [
    "# Obtaining our Data:"
   ]
  },
  {
   "cell_type": "code",
   "execution_count": 378,
   "metadata": {},
   "outputs": [],
   "source": [
    "#importing the data\n",
    "df = pd.read_csv('../dsc-4-final-project-online-ds-ft-112618/HAM10000_metadata.tab', delimiter='\\t')"
   ]
  },
  {
   "cell_type": "code",
   "execution_count": 379,
   "metadata": {
    "scrolled": true
   },
   "outputs": [
    {
     "data": {
      "text/html": [
       "<div>\n",
       "<style scoped>\n",
       "    .dataframe tbody tr th:only-of-type {\n",
       "        vertical-align: middle;\n",
       "    }\n",
       "\n",
       "    .dataframe tbody tr th {\n",
       "        vertical-align: top;\n",
       "    }\n",
       "\n",
       "    .dataframe thead th {\n",
       "        text-align: right;\n",
       "    }\n",
       "</style>\n",
       "<table border=\"1\" class=\"dataframe\">\n",
       "  <thead>\n",
       "    <tr style=\"text-align: right;\">\n",
       "      <th></th>\n",
       "      <th>lesion_id</th>\n",
       "      <th>image_id</th>\n",
       "      <th>dx</th>\n",
       "      <th>dx_type</th>\n",
       "      <th>age</th>\n",
       "      <th>sex</th>\n",
       "      <th>localization</th>\n",
       "    </tr>\n",
       "  </thead>\n",
       "  <tbody>\n",
       "    <tr>\n",
       "      <th>0</th>\n",
       "      <td>HAM_0000118</td>\n",
       "      <td>ISIC_0027419</td>\n",
       "      <td>bkl</td>\n",
       "      <td>histo</td>\n",
       "      <td>80.0</td>\n",
       "      <td>male</td>\n",
       "      <td>scalp</td>\n",
       "    </tr>\n",
       "    <tr>\n",
       "      <th>1</th>\n",
       "      <td>HAM_0000118</td>\n",
       "      <td>ISIC_0025030</td>\n",
       "      <td>bkl</td>\n",
       "      <td>histo</td>\n",
       "      <td>80.0</td>\n",
       "      <td>male</td>\n",
       "      <td>scalp</td>\n",
       "    </tr>\n",
       "    <tr>\n",
       "      <th>2</th>\n",
       "      <td>HAM_0002730</td>\n",
       "      <td>ISIC_0026769</td>\n",
       "      <td>bkl</td>\n",
       "      <td>histo</td>\n",
       "      <td>80.0</td>\n",
       "      <td>male</td>\n",
       "      <td>scalp</td>\n",
       "    </tr>\n",
       "    <tr>\n",
       "      <th>3</th>\n",
       "      <td>HAM_0002730</td>\n",
       "      <td>ISIC_0025661</td>\n",
       "      <td>bkl</td>\n",
       "      <td>histo</td>\n",
       "      <td>80.0</td>\n",
       "      <td>male</td>\n",
       "      <td>scalp</td>\n",
       "    </tr>\n",
       "    <tr>\n",
       "      <th>4</th>\n",
       "      <td>HAM_0001466</td>\n",
       "      <td>ISIC_0031633</td>\n",
       "      <td>bkl</td>\n",
       "      <td>histo</td>\n",
       "      <td>75.0</td>\n",
       "      <td>male</td>\n",
       "      <td>ear</td>\n",
       "    </tr>\n",
       "  </tbody>\n",
       "</table>\n",
       "</div>"
      ],
      "text/plain": [
       "     lesion_id      image_id   dx dx_type   age   sex localization\n",
       "0  HAM_0000118  ISIC_0027419  bkl   histo  80.0  male        scalp\n",
       "1  HAM_0000118  ISIC_0025030  bkl   histo  80.0  male        scalp\n",
       "2  HAM_0002730  ISIC_0026769  bkl   histo  80.0  male        scalp\n",
       "3  HAM_0002730  ISIC_0025661  bkl   histo  80.0  male        scalp\n",
       "4  HAM_0001466  ISIC_0031633  bkl   histo  75.0  male          ear"
      ]
     },
     "execution_count": 379,
     "metadata": {},
     "output_type": "execute_result"
    }
   ],
   "source": [
    "#inspecting the data\n",
    "df.head()"
   ]
  },
  {
   "cell_type": "markdown",
   "metadata": {},
   "source": [
    "<a id='Part_2'></a>"
   ]
  },
  {
   "cell_type": "markdown",
   "metadata": {},
   "source": [
    "# Scrubbing our Data:"
   ]
  },
  {
   "cell_type": "code",
   "execution_count": 380,
   "metadata": {},
   "outputs": [
    {
     "data": {
      "text/html": [
       "<div>\n",
       "<style scoped>\n",
       "    .dataframe tbody tr th:only-of-type {\n",
       "        vertical-align: middle;\n",
       "    }\n",
       "\n",
       "    .dataframe tbody tr th {\n",
       "        vertical-align: top;\n",
       "    }\n",
       "\n",
       "    .dataframe thead th {\n",
       "        text-align: right;\n",
       "    }\n",
       "</style>\n",
       "<table border=\"1\" class=\"dataframe\">\n",
       "  <thead>\n",
       "    <tr style=\"text-align: right;\">\n",
       "      <th></th>\n",
       "      <th>lesion_id</th>\n",
       "      <th>image_id</th>\n",
       "      <th>dx</th>\n",
       "      <th>dx_type</th>\n",
       "      <th>age</th>\n",
       "      <th>sex</th>\n",
       "      <th>localization</th>\n",
       "    </tr>\n",
       "  </thead>\n",
       "  <tbody>\n",
       "    <tr>\n",
       "      <th>0</th>\n",
       "      <td>HAM_0000001</td>\n",
       "      <td>1</td>\n",
       "      <td>1</td>\n",
       "      <td>1</td>\n",
       "      <td>1</td>\n",
       "      <td>1</td>\n",
       "      <td>1</td>\n",
       "    </tr>\n",
       "    <tr>\n",
       "      <th>1</th>\n",
       "      <td>HAM_0000003</td>\n",
       "      <td>1</td>\n",
       "      <td>1</td>\n",
       "      <td>1</td>\n",
       "      <td>1</td>\n",
       "      <td>1</td>\n",
       "      <td>1</td>\n",
       "    </tr>\n",
       "    <tr>\n",
       "      <th>2</th>\n",
       "      <td>HAM_0000004</td>\n",
       "      <td>1</td>\n",
       "      <td>1</td>\n",
       "      <td>1</td>\n",
       "      <td>1</td>\n",
       "      <td>1</td>\n",
       "      <td>1</td>\n",
       "    </tr>\n",
       "    <tr>\n",
       "      <th>3</th>\n",
       "      <td>HAM_0000007</td>\n",
       "      <td>1</td>\n",
       "      <td>1</td>\n",
       "      <td>1</td>\n",
       "      <td>1</td>\n",
       "      <td>1</td>\n",
       "      <td>1</td>\n",
       "    </tr>\n",
       "    <tr>\n",
       "      <th>4</th>\n",
       "      <td>HAM_0000008</td>\n",
       "      <td>1</td>\n",
       "      <td>1</td>\n",
       "      <td>1</td>\n",
       "      <td>1</td>\n",
       "      <td>1</td>\n",
       "      <td>1</td>\n",
       "    </tr>\n",
       "  </tbody>\n",
       "</table>\n",
       "</div>"
      ],
      "text/plain": [
       "     lesion_id  image_id  dx  dx_type  age  sex  localization\n",
       "0  HAM_0000001         1   1        1    1    1             1\n",
       "1  HAM_0000003         1   1        1    1    1             1\n",
       "2  HAM_0000004         1   1        1    1    1             1\n",
       "3  HAM_0000007         1   1        1    1    1             1\n",
       "4  HAM_0000008         1   1        1    1    1             1"
      ]
     },
     "execution_count": 380,
     "metadata": {},
     "output_type": "execute_result"
    }
   ],
   "source": [
    "#preparing separate dataframe to grouped by lesion to identify lesions w/multiple images\n",
    "df1 = df.groupby('lesion_id').count()\n",
    "df1 = df1[df1['image_id'] == 1]\n",
    "df1.reset_index(inplace=True)\n",
    "df1.head()"
   ]
  },
  {
   "cell_type": "code",
   "execution_count": 381,
   "metadata": {},
   "outputs": [
    {
     "data": {
      "text/plain": [
       "(5514, 8)"
      ]
     },
     "execution_count": 381,
     "metadata": {},
     "output_type": "execute_result"
    }
   ],
   "source": [
    "#identifying and removing duplicates:\n",
    "def duplicates(x):\n",
    "    lesion_list = list(df1['lesion_id'])\n",
    "    if x in lesion_list:\n",
    "        return 'no_duplicates'\n",
    "    else:\n",
    "        return 'duplicate'\n",
    "    \n",
    "# create a new colum that is a copy of the lesion_id column\n",
    "df['duplicate'] = df['lesion_id']\n",
    "# apply the function to this new column\n",
    "df['duplicate'] = df['duplicate'].apply(duplicates)\n",
    "df = df[df['duplicate'] == 'no_duplicates']\n",
    "df.shape"
   ]
  },
  {
   "cell_type": "code",
   "execution_count": 382,
   "metadata": {},
   "outputs": [],
   "source": [
    "#classifying lesion types as benign vs malignant\n",
    "df['dx'] = df['dx'].map({'nv': 'benign', 'bkl': 'benign', 'vasc': 'benign', 'df': 'benign', 'mel': 'malignant', 'bcc': 'malignant', 'akiec': 'malignant'})"
   ]
  },
  {
   "cell_type": "code",
   "execution_count": 383,
   "metadata": {
    "scrolled": true
   },
   "outputs": [
    {
     "data": {
      "text/plain": [
       "(552, 8)"
      ]
     },
     "execution_count": 383,
     "metadata": {},
     "output_type": "execute_result"
    }
   ],
   "source": [
    "#splitting the data for train/test\n",
    "y = df['dx']\n",
    "_, df_val = train_test_split(df, test_size=0.10, stratify=y)\n",
    "df_val.shape"
   ]
  },
  {
   "cell_type": "code",
   "execution_count": 384,
   "metadata": {},
   "outputs": [
    {
     "data": {
      "text/plain": [
       "benign       496\n",
       "malignant     56\n",
       "Name: dx, dtype: int64"
      ]
     },
     "execution_count": 384,
     "metadata": {},
     "output_type": "execute_result"
    }
   ],
   "source": [
    "df_val['dx'].value_counts()"
   ]
  },
  {
   "cell_type": "code",
   "execution_count": 385,
   "metadata": {
    "scrolled": true
   },
   "outputs": [
    {
     "name": "stdout",
     "output_type": "stream",
     "text": [
      "4962\n",
      "552\n"
     ]
    }
   ],
   "source": [
    "def identify_val_rows(x):\n",
    "    # create a list of all the lesion_id's in the val set\n",
    "    val_list = list(df_val['image_id'])\n",
    "    if str(x) in val_list:\n",
    "        return 'val'\n",
    "    else:\n",
    "        return 'train'\n",
    "# identify train and val rows\n",
    "# create a new colum that is a copy of the image_id column\n",
    "df['train_or_val'] = df['image_id']\n",
    "# apply the function to this new column\n",
    "df['train_or_val'] = df['train_or_val'].apply(identify_val_rows)\n",
    "# filter out train rows\n",
    "df_train = df[df['train_or_val'] == 'train']\n",
    "print(len(df_train))\n",
    "print(len(df_val))"
   ]
  },
  {
   "cell_type": "code",
   "execution_count": 386,
   "metadata": {},
   "outputs": [],
   "source": [
    "df.set_index('image_id', inplace=True) #setting image id as the index"
   ]
  },
  {
   "cell_type": "markdown",
   "metadata": {},
   "source": [
    "## Moving images into train/test directories"
   ]
  },
  {
   "cell_type": "code",
   "execution_count": 12,
   "metadata": {},
   "outputs": [],
   "source": [
    "folder_1 = os.listdir('../dsc-4-final-project-online-ds-ft-112618/HAM10000_images_part_1/')\n",
    "folder_2 = os.listdir('../dsc-4-final-project-online-ds-ft-112618/HAM10000_images_part_2/')\n",
    "\n",
    "# Get a list of train and val images\n",
    "train_list = list(df_train['image_id'])\n",
    "val_list = list(df_val['image_id'])\n",
    "\n",
    "# Transfer the train images:\n",
    "for image in train_list:\n",
    "    fname = image + '.jpg'\n",
    "    label = df.loc[image,'dx']\n",
    "    if fname in folder_1:\n",
    "        # source path to image\n",
    "        src = os.path.join('../dsc-4-final-project-online-ds-ft-112618/HAM10000_images_part_1/', fname)\n",
    "        # destination path to image\n",
    "        dst = os.path.join(train_dir, label, fname)\n",
    "        # copy the image from the source to the destination\n",
    "        shutil.copyfile(src, dst)\n",
    "    if fname in folder_2:\n",
    "        # source path to image\n",
    "        src = os.path.join('../dsc-4-final-project-online-ds-ft-112618/HAM10000_images_part_2/', fname)\n",
    "        # destination path to image\n",
    "        dst = os.path.join(train_dir, label, fname)\n",
    "        # copy the image from the source to the destination\n",
    "        shutil.copyfile(src, dst)\n",
    "\n",
    "#transfer the val images:        \n",
    "for image in val_list:\n",
    "    fname = image + '.jpg'\n",
    "    label = df.loc[image,'dx']\n",
    "    if fname in folder_1:\n",
    "        # source path to image\n",
    "        src = os.path.join('../dsc-4-final-project-online-ds-ft-112618/HAM10000_images_part_1/', fname)\n",
    "        # destination path to image\n",
    "        dst = os.path.join(test_dir, label, fname)\n",
    "        # copy the image from the source to the destination\n",
    "        shutil.copyfile(src, dst)\n",
    "    if fname in folder_2:\n",
    "        # source path to image\n",
    "        src = os.path.join('../dsc-4-final-project-online-ds-ft-112618/HAM10000_images_part_2/', fname)\n",
    "        # destination path to image\n",
    "        dst = os.path.join(test_dir, label, fname)\n",
    "        # copy the image from the source to the destination\n",
    "        shutil.copyfile(src, dst)     "
   ]
  },
  {
   "cell_type": "markdown",
   "metadata": {},
   "source": [
    "<a id='Part_4'></a>"
   ]
  },
  {
   "cell_type": "markdown",
   "metadata": {},
   "source": [
    "# Modeling our Data:"
   ]
  },
  {
   "cell_type": "code",
   "execution_count": 586,
   "metadata": {},
   "outputs": [],
   "source": [
    "train_datagen = ImageDataGenerator(rescale=1./255, validation_split=.10)\n",
    "test_datagen = ImageDataGenerator(rescale=1./255)"
   ]
  },
  {
   "cell_type": "code",
   "execution_count": 587,
   "metadata": {
    "scrolled": false
   },
   "outputs": [
    {
     "name": "stdout",
     "output_type": "stream",
     "text": [
      "Found 7616 images belonging to 2 classes.\n",
      "Found 846 images belonging to 2 classes.\n",
      "Found 552 images belonging to 2 classes.\n"
     ]
    }
   ],
   "source": [
    "train_generator = train_datagen.flow_from_directory(train_dir, subset= \"training\", shuffle=True,target_size=(150,150),batch_size=4466)\n",
    "\n",
    "validation_generator = train_datagen.flow_from_directory(train_dir, subset=\"validation\", shuffle=True,target_size=(150,150),batch_size=496)\n",
    "\n",
    "test_generator = test_datagen.flow_from_directory(test_dir,target_size=(150,150), shuffle=False, batch_size=552)"
   ]
  },
  {
   "cell_type": "code",
   "execution_count": 588,
   "metadata": {},
   "outputs": [],
   "source": [
    "train_images, train_labels = next(train_generator)\n",
    "test_images, test_labels = next(test_generator)\n",
    "val_images, val_labels = next(validation_generator)"
   ]
  },
  {
   "cell_type": "code",
   "execution_count": 589,
   "metadata": {
    "scrolled": true
   },
   "outputs": [],
   "source": [
    "m_train = train_images.shape[0]\n",
    "num_px = train_images.shape[1]\n",
    "m_test = test_images.shape[0]\n",
    "m_val = val_images.shape[0]"
   ]
  },
  {
   "cell_type": "code",
   "execution_count": 590,
   "metadata": {},
   "outputs": [],
   "source": [
    "train_img = train_images.reshape(train_images.shape[0], -1)\n",
    "test_img = test_images.reshape(test_images.shape[0], -1)\n",
    "val_img = val_images.reshape(val_images.shape[0], -1)"
   ]
  },
  {
   "cell_type": "code",
   "execution_count": 591,
   "metadata": {},
   "outputs": [],
   "source": [
    "train_y1 = np.reshape(train_labels_final, (4466,1))\n",
    "test_y1 = np.reshape(test_labels_final, (552,1))\n",
    "val_y1 = np.reshape(val_labels_final, (496,1))"
   ]
  },
  {
   "cell_type": "markdown",
   "metadata": {},
   "source": [
    "### Sanity Check:)"
   ]
  },
  {
   "cell_type": "code",
   "execution_count": 558,
   "metadata": {
    "scrolled": true
   },
   "outputs": [
    {
     "data": {
      "image/png": "[encoded data removed]",
      "text/plain": [
       "<PIL.Image.Image image mode=RGB size=150x150 at 0x1A52130CF8>"
      ]
     },
     "execution_count": 558,
     "metadata": {},
     "output_type": "execute_result"
    }
   ],
   "source": [
    "array_to_img(val_images[-2])"
   ]
  },
  {
   "cell_type": "code",
   "execution_count": 559,
   "metadata": {
    "scrolled": false
   },
   "outputs": [
    {
     "data": {
      "text/plain": [
       "array([1.], dtype=float32)"
      ]
     },
     "execution_count": 559,
     "metadata": {},
     "output_type": "execute_result"
    }
   ],
   "source": [
    "val_labels_final[:,-2]"
   ]
  },
  {
   "cell_type": "markdown",
   "metadata": {},
   "source": [
    "# Model 1: Built From Scratch"
   ]
  },
  {
   "cell_type": "code",
   "execution_count": 560,
   "metadata": {
    "scrolled": true
   },
   "outputs": [],
   "source": [
    "model1 = models.Sequential()\n",
    "model1.add(layers.Dense(20, activation='relu', input_shape=(67500,), kernel_regularizer=regularizers.l2(0.005))) #2 hidden layers\n",
    "model1.add(layers.Dense(7, activation='relu'))\n",
    "model1.add(layers.Dense(5, activation='relu'))\n",
    "model1.add(layers.Dense(1, activation='sigmoid'))"
   ]
  },
  {
   "cell_type": "code",
   "execution_count": 561,
   "metadata": {},
   "outputs": [],
   "source": [
    "model1.compile(loss='binary_crossentropy', optimizer=optimizers.Adam(lr=0.01), metrics=['accuracy'])"
   ]
  },
  {
   "cell_type": "code",
   "execution_count": 562,
   "metadata": {
    "scrolled": false
   },
   "outputs": [
    {
     "name": "stdout",
     "output_type": "stream",
     "text": [
      "Train on 4466 samples, validate on 496 samples\n",
      "Epoch 1/50\n",
      "4466/4466 [==============================] - 18s 4ms/step - loss: 4.9042 - acc: 0.8652 - val_loss: 5.0985 - val_acc: 0.8992\n",
      "Epoch 2/50\n",
      "4466/4466 [==============================] - 1s 324us/step - loss: 3.6556 - acc: 0.8992 - val_loss: 2.3541 - val_acc: 0.8992\n",
      "Epoch 3/50\n",
      "4466/4466 [==============================] - 2s 343us/step - loss: 1.8793 - acc: 0.8992 - val_loss: 0.8788 - val_acc: 0.8992\n",
      "Epoch 4/50\n",
      "4466/4466 [==============================] - 1s 315us/step - loss: 2.1026 - acc: 0.8988 - val_loss: 1.4726 - val_acc: 0.8992\n",
      "Epoch 5/50\n",
      "4466/4466 [==============================] - 2s 337us/step - loss: 1.5390 - acc: 0.8992 - val_loss: 3.7634 - val_acc: 0.8992\n",
      "Epoch 6/50\n",
      "4466/4466 [==============================] - 1s 328us/step - loss: 1.9142 - acc: 0.8992 - val_loss: 0.5545 - val_acc: 0.8992\n",
      "Epoch 7/50\n",
      "4466/4466 [==============================] - 1s 320us/step - loss: 2.3635 - acc: 0.8992 - val_loss: 0.8884 - val_acc: 0.8992\n",
      "Epoch 8/50\n",
      "4466/4466 [==============================] - 1s 318us/step - loss: 1.9657 - acc: 0.8838 - val_loss: 14.0477 - val_acc: 0.8992\n",
      "Epoch 9/50\n",
      "4466/4466 [==============================] - 1s 324us/step - loss: 18.4646 - acc: 0.8992 - val_loss: 12.7587 - val_acc: 0.8992\n",
      "Epoch 10/50\n",
      "4466/4466 [==============================] - 1s 326us/step - loss: 6.9713 - acc: 0.8992 - val_loss: 2.5457 - val_acc: 0.8992\n",
      "Epoch 11/50\n",
      "4466/4466 [==============================] - 1s 329us/step - loss: 1.3567 - acc: 0.8992 - val_loss: 0.6255 - val_acc: 0.8992\n",
      "Epoch 12/50\n",
      "4466/4466 [==============================] - 1s 319us/step - loss: 0.4681 - acc: 0.8992 - val_loss: 0.3727 - val_acc: 0.8992\n",
      "Epoch 13/50\n",
      "4466/4466 [==============================] - 1s 317us/step - loss: 0.3512 - acc: 0.8992 - val_loss: 0.3376 - val_acc: 0.8992\n",
      "Epoch 14/50\n",
      "4466/4466 [==============================] - 2s 351us/step - loss: 0.3341 - acc: 0.8992 - val_loss: 0.3316 - val_acc: 0.8992\n",
      "Epoch 15/50\n",
      "4466/4466 [==============================] - 1s 333us/step - loss: 0.3306 - acc: 0.8992 - val_loss: 0.3298 - val_acc: 0.8992\n",
      "Epoch 16/50\n",
      "4466/4466 [==============================] - 1s 326us/step - loss: 0.3292 - acc: 0.8992 - val_loss: 0.3289 - val_acc: 0.8992\n",
      "Epoch 17/50\n",
      "4466/4466 [==============================] - 2s 348us/step - loss: 0.3285 - acc: 0.8992 - val_loss: 0.3282 - val_acc: 0.8992\n",
      "Epoch 18/50\n",
      "4466/4466 [==============================] - 2s 346us/step - loss: 0.3280 - acc: 0.8992 - val_loss: 0.3279 - val_acc: 0.8992\n",
      "Epoch 19/50\n",
      "4466/4466 [==============================] - 1s 329us/step - loss: 0.3276 - acc: 0.8992 - val_loss: 0.3275 - val_acc: 0.8992\n",
      "Epoch 20/50\n",
      "4466/4466 [==============================] - 2s 337us/step - loss: 0.3273 - acc: 0.8992 - val_loss: 0.3272 - val_acc: 0.8992\n",
      "Epoch 21/50\n",
      "4466/4466 [==============================] - 1s 332us/step - loss: 0.3271 - acc: 0.8992 - val_loss: 0.3271 - val_acc: 0.8992\n",
      "Epoch 22/50\n",
      "4466/4466 [==============================] - 1s 329us/step - loss: 0.3270 - acc: 0.8992 - val_loss: 0.3270 - val_acc: 0.8992\n",
      "Epoch 23/50\n",
      "4466/4466 [==============================] - 1s 333us/step - loss: 0.3269 - acc: 0.8992 - val_loss: 0.3269 - val_acc: 0.8992\n",
      "Epoch 24/50\n",
      "4466/4466 [==============================] - 1s 334us/step - loss: 0.3269 - acc: 0.8992 - val_loss: 0.3269 - val_acc: 0.8992\n",
      "Epoch 25/50\n",
      "4466/4466 [==============================] - 1s 317us/step - loss: 0.3269 - acc: 0.8992 - val_loss: 0.3269 - val_acc: 0.8992\n",
      "Epoch 26/50\n",
      "4466/4466 [==============================] - 1s 311us/step - loss: 0.3268 - acc: 0.8992 - val_loss: 0.3269 - val_acc: 0.8992\n",
      "Epoch 27/50\n",
      "4466/4466 [==============================] - 1s 312us/step - loss: 0.3268 - acc: 0.8992 - val_loss: 0.3269 - val_acc: 0.8992\n",
      "Epoch 28/50\n",
      "4466/4466 [==============================] - 1s 317us/step - loss: 0.3268 - acc: 0.8992 - val_loss: 0.3269 - val_acc: 0.8992\n",
      "Epoch 29/50\n",
      "4466/4466 [==============================] - 2s 346us/step - loss: 0.3268 - acc: 0.8992 - val_loss: 0.3269 - val_acc: 0.8992\n",
      "Epoch 30/50\n",
      "4466/4466 [==============================] - 2s 337us/step - loss: 0.3268 - acc: 0.8992 - val_loss: 0.3269 - val_acc: 0.8992\n",
      "Epoch 31/50\n",
      "4466/4466 [==============================] - 2s 339us/step - loss: 0.3268 - acc: 0.8992 - val_loss: 0.3269 - val_acc: 0.8992\n",
      "Epoch 32/50\n",
      "4466/4466 [==============================] - 1s 330us/step - loss: 0.3268 - acc: 0.8992 - val_loss: 0.3269 - val_acc: 0.8992\n",
      "Epoch 33/50\n",
      "4466/4466 [==============================] - 1s 331us/step - loss: 0.3268 - acc: 0.8992 - val_loss: 0.3269 - val_acc: 0.8992\n",
      "Epoch 34/50\n",
      "4466/4466 [==============================] - 2s 338us/step - loss: 0.3268 - acc: 0.8992 - val_loss: 0.3269 - val_acc: 0.8992\n",
      "Epoch 35/50\n",
      "4466/4466 [==============================] - 2s 337us/step - loss: 0.3268 - acc: 0.8992 - val_loss: 0.3269 - val_acc: 0.8992\n",
      "Epoch 36/50\n",
      "4466/4466 [==============================] - 2s 348us/step - loss: 0.3267 - acc: 0.8992 - val_loss: 0.3269 - val_acc: 0.8992\n",
      "Epoch 37/50\n",
      "4466/4466 [==============================] - 1s 328us/step - loss: 0.3268 - acc: 0.8992 - val_loss: 0.3269 - val_acc: 0.8992\n",
      "Epoch 38/50\n",
      "4466/4466 [==============================] - 1s 329us/step - loss: 0.3268 - acc: 0.8992 - val_loss: 0.3269 - val_acc: 0.8992\n",
      "Epoch 39/50\n",
      "4466/4466 [==============================] - 2s 345us/step - loss: 0.3268 - acc: 0.8992 - val_loss: 0.3269 - val_acc: 0.8992\n",
      "Epoch 40/50\n",
      "4466/4466 [==============================] - 1s 329us/step - loss: 0.3268 - acc: 0.8992 - val_loss: 0.3269 - val_acc: 0.8992\n",
      "Epoch 41/50\n",
      "4466/4466 [==============================] - 1s 329us/step - loss: 0.3268 - acc: 0.8992 - val_loss: 0.3269 - val_acc: 0.8992\n",
      "Epoch 42/50\n",
      "4466/4466 [==============================] - 1s 325us/step - loss: 0.3268 - acc: 0.8992 - val_loss: 0.3269 - val_acc: 0.8992\n",
      "Epoch 43/50\n",
      "4466/4466 [==============================] - 1s 313us/step - loss: 0.3268 - acc: 0.8992 - val_loss: 0.3269 - val_acc: 0.8992\n",
      "Epoch 44/50\n",
      "4466/4466 [==============================] - 1s 316us/step - loss: 0.3268 - acc: 0.8992 - val_loss: 0.3269 - val_acc: 0.8992\n",
      "Epoch 45/50\n",
      "4466/4466 [==============================] - 1s 316us/step - loss: 0.3268 - acc: 0.8992 - val_loss: 0.3269 - val_acc: 0.8992\n",
      "Epoch 46/50\n",
      "4466/4466 [==============================] - 1s 316us/step - loss: 0.3268 - acc: 0.8992 - val_loss: 0.3269 - val_acc: 0.8992\n",
      "Epoch 47/50\n",
      "4466/4466 [==============================] - 1s 317us/step - loss: 0.3268 - acc: 0.8992 - val_loss: 0.3269 - val_acc: 0.8992\n",
      "Epoch 48/50\n",
      "4466/4466 [==============================] - 1s 333us/step - loss: 0.3268 - acc: 0.8992 - val_loss: 0.3269 - val_acc: 0.8992\n",
      "Epoch 49/50\n",
      "4466/4466 [==============================] - 1s 316us/step - loss: 0.3268 - acc: 0.8992 - val_loss: 0.3269 - val_acc: 0.8992\n",
      "Epoch 50/50\n",
      "4466/4466 [==============================] - 1s 318us/step - loss: 0.3268 - acc: 0.8992 - val_loss: 0.3269 - val_acc: 0.8992\n"
     ]
    }
   ],
   "source": [
    "history1 = model1.fit(train_img,\n",
    "                    train_y1,\n",
    "                    epochs=50,\n",
    "                    batch_size=202,\n",
    "                    validation_data=(val_img, val_y1))"
   ]
  },
  {
   "cell_type": "code",
   "execution_count": 563,
   "metadata": {
    "scrolled": false
   },
   "outputs": [
    {
     "data": {
      "image/png": "[encoded data removed]",
      "text/plain": [
       "<Figure size 432x288 with 1 Axes>"
      ]
     },
     "metadata": {
      "needs_background": "light"
     },
     "output_type": "display_data"
    },
    {
     "data": {
      "image/png": "[encoded data removed]",
      "text/plain": [
       "<Figure size 432x288 with 1 Axes>"
      ]
     },
     "metadata": {
      "needs_background": "light"
     },
     "output_type": "display_data"
    }
   ],
   "source": [
    "acc = history1.history['acc']\n",
    "val_acc = history1.history['val_acc']\n",
    "loss = history1.history['loss']\n",
    "val_loss = history1.history['val_loss']\n",
    "epochs = range(len(acc))\n",
    "plt.plot(epochs, acc, 'bo', label='Training acc')\n",
    "plt.plot(epochs, val_acc, 'b', label='Validation acc')\n",
    "plt.title('Training and validation accuracy')\n",
    "plt.legend()\n",
    "plt.figure()\n",
    "plt.plot(epochs, loss, 'bo', label='Training loss')\n",
    "plt.plot(epochs, val_loss, 'b', label='Validation loss')\n",
    "plt.title('Training and validation loss')\n",
    "plt.legend()\n",
    "plt.show()"
   ]
  },
  {
   "cell_type": "code",
   "execution_count": 564,
   "metadata": {},
   "outputs": [],
   "source": [
    "def plot_confusion_matrix(cm, classes, normalize=False, title='Confusion matrix', cmap=plt.cm.Blues):\n",
    "    if normalize:\n",
    "        cm = cm.astype('float') / cm.sum(axis=1)[:, np.newaxis]\n",
    "        print(\"Normalized confusion matrix\")\n",
    "    else:\n",
    "        print('Confusion matrix, without normalization')\n",
    "\n",
    "    print(cm)\n",
    "\n",
    "    plt.imshow(cm, interpolation='nearest', cmap=cmap)\n",
    "    plt.title(title)\n",
    "    plt.colorbar()\n",
    "    tick_marks = np.arange(len(classes))\n",
    "    plt.xticks(tick_marks, classes, rotation=45)\n",
    "    plt.yticks(tick_marks, classes)\n",
    "    fmt = '.2f' if normalize else 'd'\n",
    "    thresh = cm.max() / 2.\n",
    "    for i, j in itertools.product(range(cm.shape[0]), range(cm.shape[1])):\n",
    "        plt.text(j, i, format(cm[i, j], fmt),\n",
    "                 horizontalalignment=\"center\",\n",
    "                 color=\"white\" if cm[i, j] > thresh else \"black\")\n",
    "\n",
    "    plt.ylabel('True label')\n",
    "    plt.xlabel('Predicted label')\n",
    "    plt.tight_layout()"
   ]
  },
  {
   "cell_type": "code",
   "execution_count": 565,
   "metadata": {},
   "outputs": [
    {
     "name": "stdout",
     "output_type": "stream",
     "text": [
      "552/552 [==============================] - 1s 1ms/step\n",
      "test acc: 0.8985507246376812\n",
      "test loss: 0.3282837949801182\n"
     ]
    }
   ],
   "source": [
    "test_loss, test_acc = model1.evaluate(test_img, test_y1)\n",
    "print('test acc:', test_acc)\n",
    "print('test loss:', test_loss)"
   ]
  },
  {
   "cell_type": "code",
   "execution_count": 566,
   "metadata": {},
   "outputs": [],
   "source": [
    "y_class1 = model1.predict_classes(test_img, batch_size=1)"
   ]
  },
  {
   "cell_type": "code",
   "execution_count": 567,
   "metadata": {},
   "outputs": [],
   "source": [
    "cm_plot_labels = ['benign', 'malignant']"
   ]
  },
  {
   "cell_type": "code",
   "execution_count": 568,
   "metadata": {},
   "outputs": [
    {
     "name": "stdout",
     "output_type": "stream",
     "text": [
      "Normalized confusion matrix\n",
      "[[1. 0.]\n",
      " [1. 0.]]\n"
     ]
    },
    {
     "data": {
      "image/png": "[encoded data removed]",
      "text/plain": [
       "<Figure size 432x288 with 2 Axes>"
      ]
     },
     "metadata": {
      "needs_background": "light"
     },
     "output_type": "display_data"
    }
   ],
   "source": [
    "cm = confusion_matrix(test_y1, y_class1)\n",
    "\n",
    "plot_confusion_matrix(cm, cm_plot_labels, normalize=True)"
   ]
  },
  {
   "cell_type": "code",
   "execution_count": 569,
   "metadata": {},
   "outputs": [
    {
     "name": "stdout",
     "output_type": "stream",
     "text": [
      "We have 4462 benign images in the train directory\n",
      "We have 4000 malignant images in the train directory\n",
      "We have 496 benign images in the test directory\n",
      "We have 56 malignant images in the test directory\n"
     ]
    }
   ],
   "source": [
    "# predicting all benign - likely to due major class imbalance \n",
    "\n",
    "print(\"We have {} benign images in the train directory\".format(len(os.listdir('../dsc-4-final-project-online-ds-ft-112618/base_dir/train_dir/benign/'))))\n",
    "print(\"We have {} malignant images in the train directory\".format(len(os.listdir('../dsc-4-final-project-online-ds-ft-112618/base_dir/train_dir/malignant/'))))\n",
    "print(\"We have {} benign images in the test directory\".format(len(os.listdir('../dsc-4-final-project-online-ds-ft-112618/base_dir/test_dir/benign/'))))\n",
    "print(\"We have {} malignant images in the test directory\".format(len(os.listdir('../dsc-4-final-project-online-ds-ft-112618/base_dir/test_dir/malignant/'))))"
   ]
  },
  {
   "cell_type": "code",
   "execution_count": 570,
   "metadata": {},
   "outputs": [],
   "source": [
    "model1.save(\"model1.h5\") #we'll save it even though its pretty useless"
   ]
  },
  {
   "cell_type": "markdown",
   "metadata": {},
   "source": [
    "# Model 2: CNN Built from Scratch:"
   ]
  },
  {
   "cell_type": "markdown",
   "metadata": {},
   "source": [
    "For this model we will use a Convolutional Neural network and add weights to handle class imbalance"
   ]
  },
  {
   "cell_type": "code",
   "execution_count": 574,
   "metadata": {},
   "outputs": [],
   "source": [
    "class_weight = class_weight.compute_class_weight('balanced',np.unique(y), y)"
   ]
  },
  {
   "cell_type": "code",
   "execution_count": 575,
   "metadata": {},
   "outputs": [
    {
     "data": {
      "text/plain": [
       "{0: 0.5560709963695039, 1: 4.9586330935251794}"
      ]
     },
     "execution_count": 575,
     "metadata": {},
     "output_type": "execute_result"
    }
   ],
   "source": [
    "class_weights = {0:class_weight[0], 1:class_weight[1]}\n",
    "class_weights"
   ]
  },
  {
   "cell_type": "code",
   "execution_count": 592,
   "metadata": {},
   "outputs": [],
   "source": [
    "filepath=\"model2.h5\"\n",
    "checkpoint = ModelCheckpoint(filepath, monitor='val_acc', verbose=1, save_best_only=True, mode='max')\n",
    "stopping = EarlyStopping(monitor='val_loss', min_delta=0, patience=2, verbose=1, mode='auto', baseline=None, restore_best_weights=True)\n",
    "callbacks_list = [checkpoint, stopping]"
   ]
  },
  {
   "cell_type": "code",
   "execution_count": 595,
   "metadata": {},
   "outputs": [],
   "source": [
    "model2 = models.Sequential()\n",
    "model2.add(layers.Conv2D(32, (3, 3), activation='relu', kernel_regularizer=regularizers.l1(0.005),\n",
    "                        input_shape=(150 ,150,  3)))\n",
    "model2.add(layers.MaxPooling2D((2, 2)))\n",
    "\n",
    "model2.add(layers.Conv2D(32, (4, 4), activation='relu'))\n",
    "model2.add(layers.MaxPooling2D((2, 2)))\n",
    "\n",
    "model2.add(layers.Conv2D(64, (3, 3), activation='relu'))\n",
    "model2.add(layers.MaxPooling2D((2, 2)))\n",
    "\n",
    "model2.add(layers.Flatten())\n",
    "model2.add(layers.Dense(64, activation='relu'))\n",
    "model2.add(layers.Dense(1, activation='sigmoid'))\n",
    "\n",
    "model2.compile(loss='binary_crossentropy',\n",
    "              optimizer=optimizers.Adam(lr=0.001),\n",
    "              metrics=['acc'])\n",
    "\n",
    "model2.save('model2.h5')"
   ]
  },
  {
   "cell_type": "code",
   "execution_count": 598,
   "metadata": {
    "scrolled": false
   },
   "outputs": [
    {
     "name": "stdout",
     "output_type": "stream",
     "text": [
      "Train on 4466 samples, validate on 496 samples\n",
      "Epoch 1/50\n",
      "4466/4466 [==============================] - 140s 31ms/step - loss: 1.0504 - acc: 0.5887 - val_loss: 0.9362 - val_acc: 0.8992\n",
      "\n",
      "Epoch 00001: val_acc did not improve from 0.89919\n",
      "Epoch 2/50\n",
      "4466/4466 [==============================] - 132s 30ms/step - loss: 0.9330 - acc: 0.6290 - val_loss: 0.8447 - val_acc: 0.8992\n",
      "\n",
      "Epoch 00002: val_acc did not improve from 0.89919\n",
      "Epoch 3/50\n",
      "4466/4466 [==============================] - 125s 28ms/step - loss: 0.8942 - acc: 0.3867 - val_loss: 0.8934 - val_acc: 0.1008\n",
      "\n",
      "Epoch 00003: val_acc did not improve from 0.89919\n",
      "Epoch 4/50\n",
      "4466/4466 [==============================] - 133s 30ms/step - loss: 0.8623 - acc: 0.1008 - val_loss: 0.8530 - val_acc: 0.1008\n",
      "\n",
      "Epoch 00004: val_acc did not improve from 0.89919\n",
      "Restoring model weights from the end of the best epoch.\n",
      "Epoch 00004: early stopping\n"
     ]
    }
   ],
   "source": [
    "history2 = model2.fit(train_images,\n",
    "                    train_y1,\n",
    "                    epochs=50,\n",
    "                    batch_size=202,\n",
    "                    validation_data=(val_images, val_y1), class_weight=class_weights, callbacks=callbacks_list)"
   ]
  },
  {
   "cell_type": "code",
   "execution_count": 599,
   "metadata": {},
   "outputs": [
    {
     "data": {
      "image/png": "[encoded data removed]",
      "text/plain": [
       "<Figure size 432x288 with 1 Axes>"
      ]
     },
     "metadata": {
      "needs_background": "light"
     },
     "output_type": "display_data"
    },
    {
     "data": {
      "image/png": "[encoded data removed]",
      "text/plain": [
       "<Figure size 432x288 with 1 Axes>"
      ]
     },
     "metadata": {
      "needs_background": "light"
     },
     "output_type": "display_data"
    }
   ],
   "source": [
    "acc = history2.history['acc']\n",
    "val_acc = history2.history['val_acc']\n",
    "loss = history2.history['loss']\n",
    "val_loss = history2.history['val_loss']\n",
    "epochs = range(len(acc))\n",
    "plt.plot(epochs, acc, 'bo', label='Training acc')\n",
    "plt.plot(epochs, val_acc, 'b', label='Validation acc')\n",
    "plt.title('Training and validation accuracy')\n",
    "plt.legend()\n",
    "plt.figure()\n",
    "plt.plot(epochs, loss, 'bo', label='Training loss')\n",
    "plt.plot(epochs, val_loss, 'b', label='Validation loss')\n",
    "plt.title('Training and validation loss')\n",
    "plt.legend()\n",
    "plt.show()"
   ]
  },
  {
   "cell_type": "code",
   "execution_count": 345,
   "metadata": {
    "scrolled": true
   },
   "outputs": [
    {
     "name": "stdout",
     "output_type": "stream",
     "text": [
      "552/552 [==============================] - 4s 8ms/step\n",
      "test acc: 0.802536231884058\n",
      "test loss: 0.3523605163546576\n"
     ]
    }
   ],
   "source": [
    "test_loss, test_acc = model2.evaluate(test_images, test_y1)\n",
    "print('test acc:', test_acc)\n",
    "print('test loss:', test_loss)"
   ]
  },
  {
   "cell_type": "code",
   "execution_count": 346,
   "metadata": {},
   "outputs": [],
   "source": [
    "y_pred = model2.predict_classes(test_images, batch_size=1)"
   ]
  },
  {
   "cell_type": "code",
   "execution_count": 347,
   "metadata": {},
   "outputs": [
    {
     "name": "stdout",
     "output_type": "stream",
     "text": [
      "Normalized confusion matrix\n",
      "[[0.79637097 0.20362903]\n",
      " [0.14285714 0.85714286]]\n"
     ]
    },
    {
     "data": {
      "image/png": "[encoded data removed]",
      "text/plain": [
       "<Figure size 432x288 with 2 Axes>"
      ]
     },
     "metadata": {
      "needs_background": "light"
     },
     "output_type": "display_data"
    }
   ],
   "source": [
    "cm = confusion_matrix(test_y1, y_pred)\n",
    "\n",
    "plot_confusion_matrix(cm, cm_plot_labels, normalize=True)"
   ]
  },
  {
   "cell_type": "code",
   "execution_count": 78,
   "metadata": {},
   "outputs": [],
   "source": [
    "model2.save('model2.h5')"
   ]
  },
  {
   "cell_type": "markdown",
   "metadata": {},
   "source": [
    "# Model 3: Using Pretrained Network MobileNetV2:"
   ]
  },
  {
   "cell_type": "code",
   "execution_count": 348,
   "metadata": {
    "scrolled": true
   },
   "outputs": [
    {
     "name": "stdout",
     "output_type": "stream",
     "text": [
      "__________________________________________________________________________________________________\n",
      "Layer (type)                    Output Shape         Param #     Connected to                     \n",
      "==================================================================================================\n",
      "input_9 (InputLayer)            (None, 224, 224, 3)  0                                            \n",
      "__________________________________________________________________________________________________\n",
      "Conv1_pad (ZeroPadding2D)       (None, 225, 225, 3)  0           input_9[0][0]                    \n",
      "__________________________________________________________________________________________________\n",
      "Conv1 (Conv2D)                  (None, 112, 112, 32) 864         Conv1_pad[0][0]                  \n",
      "__________________________________________________________________________________________________\n",
      "bn_Conv1 (BatchNormalizationV1) (None, 112, 112, 32) 128         Conv1[0][0]                      \n",
      "__________________________________________________________________________________________________\n",
      "Conv1_relu (ReLU)               (None, 112, 112, 32) 0           bn_Conv1[0][0]                   \n",
      "__________________________________________________________________________________________________\n",
      "expanded_conv_depthwise (Depthw (None, 112, 112, 32) 288         Conv1_relu[0][0]                 \n",
      "__________________________________________________________________________________________________\n",
      "expanded_conv_depthwise_BN (Bat (None, 112, 112, 32) 128         expanded_conv_depthwise[0][0]    \n",
      "__________________________________________________________________________________________________\n",
      "expanded_conv_depthwise_relu (R (None, 112, 112, 32) 0           expanded_conv_depthwise_BN[0][0] \n",
      "__________________________________________________________________________________________________\n",
      "expanded_conv_project (Conv2D)  (None, 112, 112, 16) 512         expanded_conv_depthwise_relu[0][0\n",
      "__________________________________________________________________________________________________\n",
      "expanded_conv_project_BN (Batch (None, 112, 112, 16) 64          expanded_conv_project[0][0]      \n",
      "__________________________________________________________________________________________________\n",
      "block_1_expand (Conv2D)         (None, 112, 112, 96) 1536        expanded_conv_project_BN[0][0]   \n",
      "__________________________________________________________________________________________________\n",
      "block_1_expand_BN (BatchNormali (None, 112, 112, 96) 384         block_1_expand[0][0]             \n",
      "__________________________________________________________________________________________________\n",
      "block_1_expand_relu (ReLU)      (None, 112, 112, 96) 0           block_1_expand_BN[0][0]          \n",
      "__________________________________________________________________________________________________\n",
      "block_1_pad (ZeroPadding2D)     (None, 113, 113, 96) 0           block_1_expand_relu[0][0]        \n",
      "__________________________________________________________________________________________________\n",
      "block_1_depthwise (DepthwiseCon (None, 56, 56, 96)   864         block_1_pad[0][0]                \n",
      "__________________________________________________________________________________________________\n",
      "block_1_depthwise_BN (BatchNorm (None, 56, 56, 96)   384         block_1_depthwise[0][0]          \n",
      "__________________________________________________________________________________________________\n",
      "block_1_depthwise_relu (ReLU)   (None, 56, 56, 96)   0           block_1_depthwise_BN[0][0]       \n",
      "__________________________________________________________________________________________________\n",
      "block_1_project (Conv2D)        (None, 56, 56, 24)   2304        block_1_depthwise_relu[0][0]     \n",
      "__________________________________________________________________________________________________\n",
      "block_1_project_BN (BatchNormal (None, 56, 56, 24)   96          block_1_project[0][0]            \n",
      "__________________________________________________________________________________________________\n",
      "block_2_expand (Conv2D)         (None, 56, 56, 144)  3456        block_1_project_BN[0][0]         \n",
      "__________________________________________________________________________________________________\n",
      "block_2_expand_BN (BatchNormali (None, 56, 56, 144)  576         block_2_expand[0][0]             \n",
      "__________________________________________________________________________________________________\n",
      "block_2_expand_relu (ReLU)      (None, 56, 56, 144)  0           block_2_expand_BN[0][0]          \n",
      "__________________________________________________________________________________________________\n",
      "block_2_depthwise (DepthwiseCon (None, 56, 56, 144)  1296        block_2_expand_relu[0][0]        \n",
      "__________________________________________________________________________________________________\n",
      "block_2_depthwise_BN (BatchNorm (None, 56, 56, 144)  576         block_2_depthwise[0][0]          \n",
      "__________________________________________________________________________________________________\n",
      "block_2_depthwise_relu (ReLU)   (None, 56, 56, 144)  0           block_2_depthwise_BN[0][0]       \n",
      "__________________________________________________________________________________________________\n",
      "block_2_project (Conv2D)        (None, 56, 56, 24)   3456        block_2_depthwise_relu[0][0]     \n",
      "__________________________________________________________________________________________________\n",
      "block_2_project_BN (BatchNormal (None, 56, 56, 24)   96          block_2_project[0][0]            \n",
      "__________________________________________________________________________________________________\n",
      "block_2_add (Add)               (None, 56, 56, 24)   0           block_1_project_BN[0][0]         \n",
      "                                                                 block_2_project_BN[0][0]         \n",
      "__________________________________________________________________________________________________\n",
      "block_3_expand (Conv2D)         (None, 56, 56, 144)  3456        block_2_add[0][0]                \n",
      "__________________________________________________________________________________________________\n",
      "block_3_expand_BN (BatchNormali (None, 56, 56, 144)  576         block_3_expand[0][0]             \n",
      "__________________________________________________________________________________________________\n",
      "block_3_expand_relu (ReLU)      (None, 56, 56, 144)  0           block_3_expand_BN[0][0]          \n",
      "__________________________________________________________________________________________________\n",
      "block_3_pad (ZeroPadding2D)     (None, 57, 57, 144)  0           block_3_expand_relu[0][0]        \n",
      "__________________________________________________________________________________________________\n",
      "block_3_depthwise (DepthwiseCon (None, 28, 28, 144)  1296        block_3_pad[0][0]                \n",
      "__________________________________________________________________________________________________\n",
      "block_3_depthwise_BN (BatchNorm (None, 28, 28, 144)  576         block_3_depthwise[0][0]          \n",
      "__________________________________________________________________________________________________\n",
      "block_3_depthwise_relu (ReLU)   (None, 28, 28, 144)  0           block_3_depthwise_BN[0][0]       \n",
      "__________________________________________________________________________________________________\n",
      "block_3_project (Conv2D)        (None, 28, 28, 32)   4608        block_3_depthwise_relu[0][0]     \n",
      "__________________________________________________________________________________________________\n",
      "block_3_project_BN (BatchNormal (None, 28, 28, 32)   128         block_3_project[0][0]            \n",
      "__________________________________________________________________________________________________\n",
      "block_4_expand (Conv2D)         (None, 28, 28, 192)  6144        block_3_project_BN[0][0]         \n",
      "__________________________________________________________________________________________________\n",
      "block_4_expand_BN (BatchNormali (None, 28, 28, 192)  768         block_4_expand[0][0]             \n",
      "__________________________________________________________________________________________________\n",
      "block_4_expand_relu (ReLU)      (None, 28, 28, 192)  0           block_4_expand_BN[0][0]          \n",
      "__________________________________________________________________________________________________\n",
      "block_4_depthwise (DepthwiseCon (None, 28, 28, 192)  1728        block_4_expand_relu[0][0]        \n",
      "__________________________________________________________________________________________________\n",
      "block_4_depthwise_BN (BatchNorm (None, 28, 28, 192)  768         block_4_depthwise[0][0]          \n",
      "__________________________________________________________________________________________________\n",
      "block_4_depthwise_relu (ReLU)   (None, 28, 28, 192)  0           block_4_depthwise_BN[0][0]       \n",
      "__________________________________________________________________________________________________\n",
      "block_4_project (Conv2D)        (None, 28, 28, 32)   6144        block_4_depthwise_relu[0][0]     \n",
      "__________________________________________________________________________________________________\n",
      "block_4_project_BN (BatchNormal (None, 28, 28, 32)   128         block_4_project[0][0]            \n",
      "__________________________________________________________________________________________________\n",
      "block_4_add (Add)               (None, 28, 28, 32)   0           block_3_project_BN[0][0]         \n",
      "                                                                 block_4_project_BN[0][0]         \n",
      "__________________________________________________________________________________________________\n",
      "block_5_expand (Conv2D)         (None, 28, 28, 192)  6144        block_4_add[0][0]                \n",
      "__________________________________________________________________________________________________\n",
      "block_5_expand_BN (BatchNormali (None, 28, 28, 192)  768         block_5_expand[0][0]             \n",
      "__________________________________________________________________________________________________\n",
      "block_5_expand_relu (ReLU)      (None, 28, 28, 192)  0           block_5_expand_BN[0][0]          \n",
      "__________________________________________________________________________________________________\n",
      "block_5_depthwise (DepthwiseCon (None, 28, 28, 192)  1728        block_5_expand_relu[0][0]        \n",
      "__________________________________________________________________________________________________\n",
      "block_5_depthwise_BN (BatchNorm (None, 28, 28, 192)  768         block_5_depthwise[0][0]          \n",
      "__________________________________________________________________________________________________\n",
      "block_5_depthwise_relu (ReLU)   (None, 28, 28, 192)  0           block_5_depthwise_BN[0][0]       \n",
      "__________________________________________________________________________________________________\n",
      "block_5_project (Conv2D)        (None, 28, 28, 32)   6144        block_5_depthwise_relu[0][0]     \n",
      "__________________________________________________________________________________________________\n",
      "block_5_project_BN (BatchNormal (None, 28, 28, 32)   128         block_5_project[0][0]            \n",
      "__________________________________________________________________________________________________\n",
      "block_5_add (Add)               (None, 28, 28, 32)   0           block_4_add[0][0]                \n",
      "                                                                 block_5_project_BN[0][0]         \n",
      "__________________________________________________________________________________________________\n",
      "block_6_expand (Conv2D)         (None, 28, 28, 192)  6144        block_5_add[0][0]                \n",
      "__________________________________________________________________________________________________\n",
      "block_6_expand_BN (BatchNormali (None, 28, 28, 192)  768         block_6_expand[0][0]             \n",
      "__________________________________________________________________________________________________\n",
      "block_6_expand_relu (ReLU)      (None, 28, 28, 192)  0           block_6_expand_BN[0][0]          \n",
      "__________________________________________________________________________________________________\n",
      "block_6_pad (ZeroPadding2D)     (None, 29, 29, 192)  0           block_6_expand_relu[0][0]        \n",
      "__________________________________________________________________________________________________\n",
      "block_6_depthwise (DepthwiseCon (None, 14, 14, 192)  1728        block_6_pad[0][0]                \n",
      "__________________________________________________________________________________________________\n",
      "block_6_depthwise_BN (BatchNorm (None, 14, 14, 192)  768         block_6_depthwise[0][0]          \n",
      "__________________________________________________________________________________________________\n",
      "block_6_depthwise_relu (ReLU)   (None, 14, 14, 192)  0           block_6_depthwise_BN[0][0]       \n",
      "__________________________________________________________________________________________________\n",
      "block_6_project (Conv2D)        (None, 14, 14, 64)   12288       block_6_depthwise_relu[0][0]     \n",
      "__________________________________________________________________________________________________\n",
      "block_6_project_BN (BatchNormal (None, 14, 14, 64)   256         block_6_project[0][0]            \n",
      "__________________________________________________________________________________________________\n",
      "block_7_expand (Conv2D)         (None, 14, 14, 384)  24576       block_6_project_BN[0][0]         \n",
      "__________________________________________________________________________________________________\n",
      "block_7_expand_BN (BatchNormali (None, 14, 14, 384)  1536        block_7_expand[0][0]             \n",
      "__________________________________________________________________________________________________\n",
      "block_7_expand_relu (ReLU)      (None, 14, 14, 384)  0           block_7_expand_BN[0][0]          \n",
      "__________________________________________________________________________________________________\n",
      "block_7_depthwise (DepthwiseCon (None, 14, 14, 384)  3456        block_7_expand_relu[0][0]        \n",
      "__________________________________________________________________________________________________\n",
      "block_7_depthwise_BN (BatchNorm (None, 14, 14, 384)  1536        block_7_depthwise[0][0]          \n",
      "__________________________________________________________________________________________________\n",
      "block_7_depthwise_relu (ReLU)   (None, 14, 14, 384)  0           block_7_depthwise_BN[0][0]       \n",
      "__________________________________________________________________________________________________\n",
      "block_7_project (Conv2D)        (None, 14, 14, 64)   24576       block_7_depthwise_relu[0][0]     \n",
      "__________________________________________________________________________________________________\n",
      "block_7_project_BN (BatchNormal (None, 14, 14, 64)   256         block_7_project[0][0]            \n",
      "__________________________________________________________________________________________________\n",
      "block_7_add (Add)               (None, 14, 14, 64)   0           block_6_project_BN[0][0]         \n",
      "                                                                 block_7_project_BN[0][0]         \n",
      "__________________________________________________________________________________________________\n",
      "block_8_expand (Conv2D)         (None, 14, 14, 384)  24576       block_7_add[0][0]                \n",
      "__________________________________________________________________________________________________\n",
      "block_8_expand_BN (BatchNormali (None, 14, 14, 384)  1536        block_8_expand[0][0]             \n",
      "__________________________________________________________________________________________________\n",
      "block_8_expand_relu (ReLU)      (None, 14, 14, 384)  0           block_8_expand_BN[0][0]          \n",
      "__________________________________________________________________________________________________\n",
      "block_8_depthwise (DepthwiseCon (None, 14, 14, 384)  3456        block_8_expand_relu[0][0]        \n",
      "__________________________________________________________________________________________________\n",
      "block_8_depthwise_BN (BatchNorm (None, 14, 14, 384)  1536        block_8_depthwise[0][0]          \n",
      "__________________________________________________________________________________________________\n",
      "block_8_depthwise_relu (ReLU)   (None, 14, 14, 384)  0           block_8_depthwise_BN[0][0]       \n",
      "__________________________________________________________________________________________________\n",
      "block_8_project (Conv2D)        (None, 14, 14, 64)   24576       block_8_depthwise_relu[0][0]     \n",
      "__________________________________________________________________________________________________\n",
      "block_8_project_BN (BatchNormal (None, 14, 14, 64)   256         block_8_project[0][0]            \n",
      "__________________________________________________________________________________________________\n",
      "block_8_add (Add)               (None, 14, 14, 64)   0           block_7_add[0][0]                \n",
      "                                                                 block_8_project_BN[0][0]         \n",
      "__________________________________________________________________________________________________\n",
      "block_9_expand (Conv2D)         (None, 14, 14, 384)  24576       block_8_add[0][0]                \n",
      "__________________________________________________________________________________________________\n",
      "block_9_expand_BN (BatchNormali (None, 14, 14, 384)  1536        block_9_expand[0][0]             \n",
      "__________________________________________________________________________________________________\n",
      "block_9_expand_relu (ReLU)      (None, 14, 14, 384)  0           block_9_expand_BN[0][0]          \n",
      "__________________________________________________________________________________________________\n",
      "block_9_depthwise (DepthwiseCon (None, 14, 14, 384)  3456        block_9_expand_relu[0][0]        \n",
      "__________________________________________________________________________________________________\n",
      "block_9_depthwise_BN (BatchNorm (None, 14, 14, 384)  1536        block_9_depthwise[0][0]          \n",
      "__________________________________________________________________________________________________\n",
      "block_9_depthwise_relu (ReLU)   (None, 14, 14, 384)  0           block_9_depthwise_BN[0][0]       \n",
      "__________________________________________________________________________________________________\n",
      "block_9_project (Conv2D)        (None, 14, 14, 64)   24576       block_9_depthwise_relu[0][0]     \n",
      "__________________________________________________________________________________________________\n",
      "block_9_project_BN (BatchNormal (None, 14, 14, 64)   256         block_9_project[0][0]            \n",
      "__________________________________________________________________________________________________\n",
      "block_9_add (Add)               (None, 14, 14, 64)   0           block_8_add[0][0]                \n",
      "                                                                 block_9_project_BN[0][0]         \n",
      "__________________________________________________________________________________________________\n",
      "block_10_expand (Conv2D)        (None, 14, 14, 384)  24576       block_9_add[0][0]                \n",
      "__________________________________________________________________________________________________\n",
      "block_10_expand_BN (BatchNormal (None, 14, 14, 384)  1536        block_10_expand[0][0]            \n",
      "__________________________________________________________________________________________________\n",
      "block_10_expand_relu (ReLU)     (None, 14, 14, 384)  0           block_10_expand_BN[0][0]         \n",
      "__________________________________________________________________________________________________\n",
      "block_10_depthwise (DepthwiseCo (None, 14, 14, 384)  3456        block_10_expand_relu[0][0]       \n",
      "__________________________________________________________________________________________________\n",
      "block_10_depthwise_BN (BatchNor (None, 14, 14, 384)  1536        block_10_depthwise[0][0]         \n",
      "__________________________________________________________________________________________________\n",
      "block_10_depthwise_relu (ReLU)  (None, 14, 14, 384)  0           block_10_depthwise_BN[0][0]      \n",
      "__________________________________________________________________________________________________\n",
      "block_10_project (Conv2D)       (None, 14, 14, 96)   36864       block_10_depthwise_relu[0][0]    \n",
      "__________________________________________________________________________________________________\n",
      "block_10_project_BN (BatchNorma (None, 14, 14, 96)   384         block_10_project[0][0]           \n",
      "__________________________________________________________________________________________________\n",
      "block_11_expand (Conv2D)        (None, 14, 14, 576)  55296       block_10_project_BN[0][0]        \n",
      "__________________________________________________________________________________________________\n",
      "block_11_expand_BN (BatchNormal (None, 14, 14, 576)  2304        block_11_expand[0][0]            \n",
      "__________________________________________________________________________________________________\n",
      "block_11_expand_relu (ReLU)     (None, 14, 14, 576)  0           block_11_expand_BN[0][0]         \n",
      "__________________________________________________________________________________________________\n",
      "block_11_depthwise (DepthwiseCo (None, 14, 14, 576)  5184        block_11_expand_relu[0][0]       \n",
      "__________________________________________________________________________________________________\n",
      "block_11_depthwise_BN (BatchNor (None, 14, 14, 576)  2304        block_11_depthwise[0][0]         \n",
      "__________________________________________________________________________________________________\n",
      "block_11_depthwise_relu (ReLU)  (None, 14, 14, 576)  0           block_11_depthwise_BN[0][0]      \n",
      "__________________________________________________________________________________________________\n",
      "block_11_project (Conv2D)       (None, 14, 14, 96)   55296       block_11_depthwise_relu[0][0]    \n",
      "__________________________________________________________________________________________________\n",
      "block_11_project_BN (BatchNorma (None, 14, 14, 96)   384         block_11_project[0][0]           \n",
      "__________________________________________________________________________________________________\n",
      "block_11_add (Add)              (None, 14, 14, 96)   0           block_10_project_BN[0][0]        \n",
      "                                                                 block_11_project_BN[0][0]        \n",
      "__________________________________________________________________________________________________\n",
      "block_12_expand (Conv2D)        (None, 14, 14, 576)  55296       block_11_add[0][0]               \n",
      "__________________________________________________________________________________________________\n",
      "block_12_expand_BN (BatchNormal (None, 14, 14, 576)  2304        block_12_expand[0][0]            \n",
      "__________________________________________________________________________________________________\n",
      "block_12_expand_relu (ReLU)     (None, 14, 14, 576)  0           block_12_expand_BN[0][0]         \n",
      "__________________________________________________________________________________________________\n",
      "block_12_depthwise (DepthwiseCo (None, 14, 14, 576)  5184        block_12_expand_relu[0][0]       \n",
      "__________________________________________________________________________________________________\n",
      "block_12_depthwise_BN (BatchNor (None, 14, 14, 576)  2304        block_12_depthwise[0][0]         \n",
      "__________________________________________________________________________________________________\n",
      "block_12_depthwise_relu (ReLU)  (None, 14, 14, 576)  0           block_12_depthwise_BN[0][0]      \n",
      "__________________________________________________________________________________________________\n",
      "block_12_project (Conv2D)       (None, 14, 14, 96)   55296       block_12_depthwise_relu[0][0]    \n",
      "__________________________________________________________________________________________________\n",
      "block_12_project_BN (BatchNorma (None, 14, 14, 96)   384         block_12_project[0][0]           \n",
      "__________________________________________________________________________________________________\n",
      "block_12_add (Add)              (None, 14, 14, 96)   0           block_11_add[0][0]               \n",
      "                                                                 block_12_project_BN[0][0]        \n",
      "__________________________________________________________________________________________________\n",
      "block_13_expand (Conv2D)        (None, 14, 14, 576)  55296       block_12_add[0][0]               \n",
      "__________________________________________________________________________________________________\n",
      "block_13_expand_BN (BatchNormal (None, 14, 14, 576)  2304        block_13_expand[0][0]            \n",
      "__________________________________________________________________________________________________\n",
      "block_13_expand_relu (ReLU)     (None, 14, 14, 576)  0           block_13_expand_BN[0][0]         \n",
      "__________________________________________________________________________________________________\n",
      "block_13_pad (ZeroPadding2D)    (None, 15, 15, 576)  0           block_13_expand_relu[0][0]       \n",
      "__________________________________________________________________________________________________\n",
      "block_13_depthwise (DepthwiseCo (None, 7, 7, 576)    5184        block_13_pad[0][0]               \n",
      "__________________________________________________________________________________________________\n",
      "block_13_depthwise_BN (BatchNor (None, 7, 7, 576)    2304        block_13_depthwise[0][0]         \n",
      "__________________________________________________________________________________________________\n",
      "block_13_depthwise_relu (ReLU)  (None, 7, 7, 576)    0           block_13_depthwise_BN[0][0]      \n",
      "__________________________________________________________________________________________________\n",
      "block_13_project (Conv2D)       (None, 7, 7, 160)    92160       block_13_depthwise_relu[0][0]    \n",
      "__________________________________________________________________________________________________\n",
      "block_13_project_BN (BatchNorma (None, 7, 7, 160)    640         block_13_project[0][0]           \n",
      "__________________________________________________________________________________________________\n",
      "block_14_expand (Conv2D)        (None, 7, 7, 960)    153600      block_13_project_BN[0][0]        \n",
      "__________________________________________________________________________________________________\n",
      "block_14_expand_BN (BatchNormal (None, 7, 7, 960)    3840        block_14_expand[0][0]            \n",
      "__________________________________________________________________________________________________\n",
      "block_14_expand_relu (ReLU)     (None, 7, 7, 960)    0           block_14_expand_BN[0][0]         \n",
      "__________________________________________________________________________________________________\n",
      "block_14_depthwise (DepthwiseCo (None, 7, 7, 960)    8640        block_14_expand_relu[0][0]       \n",
      "__________________________________________________________________________________________________\n",
      "block_14_depthwise_BN (BatchNor (None, 7, 7, 960)    3840        block_14_depthwise[0][0]         \n",
      "__________________________________________________________________________________________________\n",
      "block_14_depthwise_relu (ReLU)  (None, 7, 7, 960)    0           block_14_depthwise_BN[0][0]      \n",
      "__________________________________________________________________________________________________\n",
      "block_14_project (Conv2D)       (None, 7, 7, 160)    153600      block_14_depthwise_relu[0][0]    \n",
      "__________________________________________________________________________________________________\n",
      "block_14_project_BN (BatchNorma (None, 7, 7, 160)    640         block_14_project[0][0]           \n",
      "__________________________________________________________________________________________________\n",
      "block_14_add (Add)              (None, 7, 7, 160)    0           block_13_project_BN[0][0]        \n",
      "                                                                 block_14_project_BN[0][0]        \n",
      "__________________________________________________________________________________________________\n",
      "block_15_expand (Conv2D)        (None, 7, 7, 960)    153600      block_14_add[0][0]               \n",
      "__________________________________________________________________________________________________\n",
      "block_15_expand_BN (BatchNormal (None, 7, 7, 960)    3840        block_15_expand[0][0]            \n",
      "__________________________________________________________________________________________________\n",
      "block_15_expand_relu (ReLU)     (None, 7, 7, 960)    0           block_15_expand_BN[0][0]         \n",
      "__________________________________________________________________________________________________\n",
      "block_15_depthwise (DepthwiseCo (None, 7, 7, 960)    8640        block_15_expand_relu[0][0]       \n",
      "__________________________________________________________________________________________________\n",
      "block_15_depthwise_BN (BatchNor (None, 7, 7, 960)    3840        block_15_depthwise[0][0]         \n",
      "__________________________________________________________________________________________________\n",
      "block_15_depthwise_relu (ReLU)  (None, 7, 7, 960)    0           block_15_depthwise_BN[0][0]      \n",
      "__________________________________________________________________________________________________\n",
      "block_15_project (Conv2D)       (None, 7, 7, 160)    153600      block_15_depthwise_relu[0][0]    \n",
      "__________________________________________________________________________________________________\n",
      "block_15_project_BN (BatchNorma (None, 7, 7, 160)    640         block_15_project[0][0]           \n",
      "__________________________________________________________________________________________________\n",
      "block_15_add (Add)              (None, 7, 7, 160)    0           block_14_add[0][0]               \n",
      "                                                                 block_15_project_BN[0][0]        \n",
      "__________________________________________________________________________________________________\n",
      "block_16_expand (Conv2D)        (None, 7, 7, 960)    153600      block_15_add[0][0]               \n",
      "__________________________________________________________________________________________________\n",
      "block_16_expand_BN (BatchNormal (None, 7, 7, 960)    3840        block_16_expand[0][0]            \n",
      "__________________________________________________________________________________________________\n",
      "block_16_expand_relu (ReLU)     (None, 7, 7, 960)    0           block_16_expand_BN[0][0]         \n",
      "__________________________________________________________________________________________________\n",
      "block_16_depthwise (DepthwiseCo (None, 7, 7, 960)    8640        block_16_expand_relu[0][0]       \n",
      "__________________________________________________________________________________________________\n",
      "block_16_depthwise_BN (BatchNor (None, 7, 7, 960)    3840        block_16_depthwise[0][0]         \n",
      "__________________________________________________________________________________________________\n",
      "block_16_depthwise_relu (ReLU)  (None, 7, 7, 960)    0           block_16_depthwise_BN[0][0]      \n",
      "__________________________________________________________________________________________________\n",
      "block_16_project (Conv2D)       (None, 7, 7, 320)    307200      block_16_depthwise_relu[0][0]    \n",
      "__________________________________________________________________________________________________\n",
      "block_16_project_BN (BatchNorma (None, 7, 7, 320)    1280        block_16_project[0][0]           \n",
      "__________________________________________________________________________________________________\n",
      "Conv_1 (Conv2D)                 (None, 7, 7, 1280)   409600      block_16_project_BN[0][0]        \n",
      "__________________________________________________________________________________________________\n",
      "Conv_1_bn (BatchNormalizationV1 (None, 7, 7, 1280)   5120        Conv_1[0][0]                     \n",
      "__________________________________________________________________________________________________\n",
      "out_relu (ReLU)                 (None, 7, 7, 1280)   0           Conv_1_bn[0][0]                  \n",
      "__________________________________________________________________________________________________\n",
      "global_average_pooling2d_8 (Glo (None, 1280)         0           out_relu[0][0]                   \n",
      "__________________________________________________________________________________________________\n",
      "Logits (Dense)                  (None, 1000)         1281000     global_average_pooling2d_8[0][0] \n",
      "==================================================================================================\n",
      "Total params: 3,538,984\n",
      "Trainable params: 3,504,872\n",
      "Non-trainable params: 34,112\n",
      "__________________________________________________________________________________________________\n"
     ]
    }
   ],
   "source": [
    "mobile = tensorflow.keras.applications.mobilenet_v2.MobileNetV2()\n",
    "mobile.summary()"
   ]
  },
  {
   "cell_type": "code",
   "execution_count": 349,
   "metadata": {
    "scrolled": false
   },
   "outputs": [
    {
     "name": "stdout",
     "output_type": "stream",
     "text": [
      "__________________________________________________________________________________________________\n",
      "Layer (type)                    Output Shape         Param #     Connected to                     \n",
      "==================================================================================================\n",
      "input_9 (InputLayer)            (None, 224, 224, 3)  0                                            \n",
      "__________________________________________________________________________________________________\n",
      "Conv1_pad (ZeroPadding2D)       (None, 225, 225, 3)  0           input_9[0][0]                    \n",
      "__________________________________________________________________________________________________\n",
      "Conv1 (Conv2D)                  (None, 112, 112, 32) 864         Conv1_pad[0][0]                  \n",
      "__________________________________________________________________________________________________\n",
      "bn_Conv1 (BatchNormalizationV1) (None, 112, 112, 32) 128         Conv1[0][0]                      \n",
      "__________________________________________________________________________________________________\n",
      "Conv1_relu (ReLU)               (None, 112, 112, 32) 0           bn_Conv1[0][0]                   \n",
      "__________________________________________________________________________________________________\n",
      "expanded_conv_depthwise (Depthw (None, 112, 112, 32) 288         Conv1_relu[0][0]                 \n",
      "__________________________________________________________________________________________________\n",
      "expanded_conv_depthwise_BN (Bat (None, 112, 112, 32) 128         expanded_conv_depthwise[0][0]    \n",
      "__________________________________________________________________________________________________\n",
      "expanded_conv_depthwise_relu (R (None, 112, 112, 32) 0           expanded_conv_depthwise_BN[0][0] \n",
      "__________________________________________________________________________________________________\n",
      "expanded_conv_project (Conv2D)  (None, 112, 112, 16) 512         expanded_conv_depthwise_relu[0][0\n",
      "__________________________________________________________________________________________________\n",
      "expanded_conv_project_BN (Batch (None, 112, 112, 16) 64          expanded_conv_project[0][0]      \n",
      "__________________________________________________________________________________________________\n",
      "block_1_expand (Conv2D)         (None, 112, 112, 96) 1536        expanded_conv_project_BN[0][0]   \n",
      "__________________________________________________________________________________________________\n",
      "block_1_expand_BN (BatchNormali (None, 112, 112, 96) 384         block_1_expand[0][0]             \n",
      "__________________________________________________________________________________________________\n",
      "block_1_expand_relu (ReLU)      (None, 112, 112, 96) 0           block_1_expand_BN[0][0]          \n",
      "__________________________________________________________________________________________________\n",
      "block_1_pad (ZeroPadding2D)     (None, 113, 113, 96) 0           block_1_expand_relu[0][0]        \n",
      "__________________________________________________________________________________________________\n",
      "block_1_depthwise (DepthwiseCon (None, 56, 56, 96)   864         block_1_pad[0][0]                \n",
      "__________________________________________________________________________________________________\n",
      "block_1_depthwise_BN (BatchNorm (None, 56, 56, 96)   384         block_1_depthwise[0][0]          \n",
      "__________________________________________________________________________________________________\n",
      "block_1_depthwise_relu (ReLU)   (None, 56, 56, 96)   0           block_1_depthwise_BN[0][0]       \n",
      "__________________________________________________________________________________________________\n",
      "block_1_project (Conv2D)        (None, 56, 56, 24)   2304        block_1_depthwise_relu[0][0]     \n",
      "__________________________________________________________________________________________________\n",
      "block_1_project_BN (BatchNormal (None, 56, 56, 24)   96          block_1_project[0][0]            \n",
      "__________________________________________________________________________________________________\n",
      "block_2_expand (Conv2D)         (None, 56, 56, 144)  3456        block_1_project_BN[0][0]         \n",
      "__________________________________________________________________________________________________\n",
      "block_2_expand_BN (BatchNormali (None, 56, 56, 144)  576         block_2_expand[0][0]             \n",
      "__________________________________________________________________________________________________\n",
      "block_2_expand_relu (ReLU)      (None, 56, 56, 144)  0           block_2_expand_BN[0][0]          \n",
      "__________________________________________________________________________________________________\n",
      "block_2_depthwise (DepthwiseCon (None, 56, 56, 144)  1296        block_2_expand_relu[0][0]        \n",
      "__________________________________________________________________________________________________\n",
      "block_2_depthwise_BN (BatchNorm (None, 56, 56, 144)  576         block_2_depthwise[0][0]          \n",
      "__________________________________________________________________________________________________\n",
      "block_2_depthwise_relu (ReLU)   (None, 56, 56, 144)  0           block_2_depthwise_BN[0][0]       \n",
      "__________________________________________________________________________________________________\n",
      "block_2_project (Conv2D)        (None, 56, 56, 24)   3456        block_2_depthwise_relu[0][0]     \n",
      "__________________________________________________________________________________________________\n",
      "block_2_project_BN (BatchNormal (None, 56, 56, 24)   96          block_2_project[0][0]            \n",
      "__________________________________________________________________________________________________\n",
      "block_2_add (Add)               (None, 56, 56, 24)   0           block_1_project_BN[0][0]         \n",
      "                                                                 block_2_project_BN[0][0]         \n",
      "__________________________________________________________________________________________________\n",
      "block_3_expand (Conv2D)         (None, 56, 56, 144)  3456        block_2_add[0][0]                \n",
      "__________________________________________________________________________________________________\n",
      "block_3_expand_BN (BatchNormali (None, 56, 56, 144)  576         block_3_expand[0][0]             \n",
      "__________________________________________________________________________________________________\n",
      "block_3_expand_relu (ReLU)      (None, 56, 56, 144)  0           block_3_expand_BN[0][0]          \n",
      "__________________________________________________________________________________________________\n",
      "block_3_pad (ZeroPadding2D)     (None, 57, 57, 144)  0           block_3_expand_relu[0][0]        \n",
      "__________________________________________________________________________________________________\n",
      "block_3_depthwise (DepthwiseCon (None, 28, 28, 144)  1296        block_3_pad[0][0]                \n",
      "__________________________________________________________________________________________________\n",
      "block_3_depthwise_BN (BatchNorm (None, 28, 28, 144)  576         block_3_depthwise[0][0]          \n",
      "__________________________________________________________________________________________________\n",
      "block_3_depthwise_relu (ReLU)   (None, 28, 28, 144)  0           block_3_depthwise_BN[0][0]       \n",
      "__________________________________________________________________________________________________\n",
      "block_3_project (Conv2D)        (None, 28, 28, 32)   4608        block_3_depthwise_relu[0][0]     \n",
      "__________________________________________________________________________________________________\n",
      "block_3_project_BN (BatchNormal (None, 28, 28, 32)   128         block_3_project[0][0]            \n",
      "__________________________________________________________________________________________________\n",
      "block_4_expand (Conv2D)         (None, 28, 28, 192)  6144        block_3_project_BN[0][0]         \n",
      "__________________________________________________________________________________________________\n",
      "block_4_expand_BN (BatchNormali (None, 28, 28, 192)  768         block_4_expand[0][0]             \n",
      "__________________________________________________________________________________________________\n",
      "block_4_expand_relu (ReLU)      (None, 28, 28, 192)  0           block_4_expand_BN[0][0]          \n",
      "__________________________________________________________________________________________________\n",
      "block_4_depthwise (DepthwiseCon (None, 28, 28, 192)  1728        block_4_expand_relu[0][0]        \n",
      "__________________________________________________________________________________________________\n",
      "block_4_depthwise_BN (BatchNorm (None, 28, 28, 192)  768         block_4_depthwise[0][0]          \n",
      "__________________________________________________________________________________________________\n",
      "block_4_depthwise_relu (ReLU)   (None, 28, 28, 192)  0           block_4_depthwise_BN[0][0]       \n",
      "__________________________________________________________________________________________________\n",
      "block_4_project (Conv2D)        (None, 28, 28, 32)   6144        block_4_depthwise_relu[0][0]     \n",
      "__________________________________________________________________________________________________\n",
      "block_4_project_BN (BatchNormal (None, 28, 28, 32)   128         block_4_project[0][0]            \n",
      "__________________________________________________________________________________________________\n",
      "block_4_add (Add)               (None, 28, 28, 32)   0           block_3_project_BN[0][0]         \n",
      "                                                                 block_4_project_BN[0][0]         \n",
      "__________________________________________________________________________________________________\n",
      "block_5_expand (Conv2D)         (None, 28, 28, 192)  6144        block_4_add[0][0]                \n",
      "__________________________________________________________________________________________________\n",
      "block_5_expand_BN (BatchNormali (None, 28, 28, 192)  768         block_5_expand[0][0]             \n",
      "__________________________________________________________________________________________________\n",
      "block_5_expand_relu (ReLU)      (None, 28, 28, 192)  0           block_5_expand_BN[0][0]          \n",
      "__________________________________________________________________________________________________\n",
      "block_5_depthwise (DepthwiseCon (None, 28, 28, 192)  1728        block_5_expand_relu[0][0]        \n",
      "__________________________________________________________________________________________________\n",
      "block_5_depthwise_BN (BatchNorm (None, 28, 28, 192)  768         block_5_depthwise[0][0]          \n",
      "__________________________________________________________________________________________________\n",
      "block_5_depthwise_relu (ReLU)   (None, 28, 28, 192)  0           block_5_depthwise_BN[0][0]       \n",
      "__________________________________________________________________________________________________\n",
      "block_5_project (Conv2D)        (None, 28, 28, 32)   6144        block_5_depthwise_relu[0][0]     \n",
      "__________________________________________________________________________________________________\n",
      "block_5_project_BN (BatchNormal (None, 28, 28, 32)   128         block_5_project[0][0]            \n",
      "__________________________________________________________________________________________________\n",
      "block_5_add (Add)               (None, 28, 28, 32)   0           block_4_add[0][0]                \n",
      "                                                                 block_5_project_BN[0][0]         \n",
      "__________________________________________________________________________________________________\n",
      "block_6_expand (Conv2D)         (None, 28, 28, 192)  6144        block_5_add[0][0]                \n",
      "__________________________________________________________________________________________________\n",
      "block_6_expand_BN (BatchNormali (None, 28, 28, 192)  768         block_6_expand[0][0]             \n",
      "__________________________________________________________________________________________________\n",
      "block_6_expand_relu (ReLU)      (None, 28, 28, 192)  0           block_6_expand_BN[0][0]          \n",
      "__________________________________________________________________________________________________\n",
      "block_6_pad (ZeroPadding2D)     (None, 29, 29, 192)  0           block_6_expand_relu[0][0]        \n",
      "__________________________________________________________________________________________________\n",
      "block_6_depthwise (DepthwiseCon (None, 14, 14, 192)  1728        block_6_pad[0][0]                \n",
      "__________________________________________________________________________________________________\n",
      "block_6_depthwise_BN (BatchNorm (None, 14, 14, 192)  768         block_6_depthwise[0][0]          \n",
      "__________________________________________________________________________________________________\n",
      "block_6_depthwise_relu (ReLU)   (None, 14, 14, 192)  0           block_6_depthwise_BN[0][0]       \n",
      "__________________________________________________________________________________________________\n",
      "block_6_project (Conv2D)        (None, 14, 14, 64)   12288       block_6_depthwise_relu[0][0]     \n",
      "__________________________________________________________________________________________________\n",
      "block_6_project_BN (BatchNormal (None, 14, 14, 64)   256         block_6_project[0][0]            \n",
      "__________________________________________________________________________________________________\n",
      "block_7_expand (Conv2D)         (None, 14, 14, 384)  24576       block_6_project_BN[0][0]         \n",
      "__________________________________________________________________________________________________\n",
      "block_7_expand_BN (BatchNormali (None, 14, 14, 384)  1536        block_7_expand[0][0]             \n",
      "__________________________________________________________________________________________________\n",
      "block_7_expand_relu (ReLU)      (None, 14, 14, 384)  0           block_7_expand_BN[0][0]          \n",
      "__________________________________________________________________________________________________\n",
      "block_7_depthwise (DepthwiseCon (None, 14, 14, 384)  3456        block_7_expand_relu[0][0]        \n",
      "__________________________________________________________________________________________________\n",
      "block_7_depthwise_BN (BatchNorm (None, 14, 14, 384)  1536        block_7_depthwise[0][0]          \n",
      "__________________________________________________________________________________________________\n",
      "block_7_depthwise_relu (ReLU)   (None, 14, 14, 384)  0           block_7_depthwise_BN[0][0]       \n",
      "__________________________________________________________________________________________________\n",
      "block_7_project (Conv2D)        (None, 14, 14, 64)   24576       block_7_depthwise_relu[0][0]     \n",
      "__________________________________________________________________________________________________\n",
      "block_7_project_BN (BatchNormal (None, 14, 14, 64)   256         block_7_project[0][0]            \n",
      "__________________________________________________________________________________________________\n",
      "block_7_add (Add)               (None, 14, 14, 64)   0           block_6_project_BN[0][0]         \n",
      "                                                                 block_7_project_BN[0][0]         \n",
      "__________________________________________________________________________________________________\n"
     ]
    },
    {
     "name": "stdout",
     "output_type": "stream",
     "text": [
      "block_8_expand (Conv2D)         (None, 14, 14, 384)  24576       block_7_add[0][0]                \n",
      "__________________________________________________________________________________________________\n",
      "block_8_expand_BN (BatchNormali (None, 14, 14, 384)  1536        block_8_expand[0][0]             \n",
      "__________________________________________________________________________________________________\n",
      "block_8_expand_relu (ReLU)      (None, 14, 14, 384)  0           block_8_expand_BN[0][0]          \n",
      "__________________________________________________________________________________________________\n",
      "block_8_depthwise (DepthwiseCon (None, 14, 14, 384)  3456        block_8_expand_relu[0][0]        \n",
      "__________________________________________________________________________________________________\n",
      "block_8_depthwise_BN (BatchNorm (None, 14, 14, 384)  1536        block_8_depthwise[0][0]          \n",
      "__________________________________________________________________________________________________\n",
      "block_8_depthwise_relu (ReLU)   (None, 14, 14, 384)  0           block_8_depthwise_BN[0][0]       \n",
      "__________________________________________________________________________________________________\n",
      "block_8_project (Conv2D)        (None, 14, 14, 64)   24576       block_8_depthwise_relu[0][0]     \n",
      "__________________________________________________________________________________________________\n",
      "block_8_project_BN (BatchNormal (None, 14, 14, 64)   256         block_8_project[0][0]            \n",
      "__________________________________________________________________________________________________\n",
      "block_8_add (Add)               (None, 14, 14, 64)   0           block_7_add[0][0]                \n",
      "                                                                 block_8_project_BN[0][0]         \n",
      "__________________________________________________________________________________________________\n",
      "block_9_expand (Conv2D)         (None, 14, 14, 384)  24576       block_8_add[0][0]                \n",
      "__________________________________________________________________________________________________\n",
      "block_9_expand_BN (BatchNormali (None, 14, 14, 384)  1536        block_9_expand[0][0]             \n",
      "__________________________________________________________________________________________________\n",
      "block_9_expand_relu (ReLU)      (None, 14, 14, 384)  0           block_9_expand_BN[0][0]          \n",
      "__________________________________________________________________________________________________\n",
      "block_9_depthwise (DepthwiseCon (None, 14, 14, 384)  3456        block_9_expand_relu[0][0]        \n",
      "__________________________________________________________________________________________________\n",
      "block_9_depthwise_BN (BatchNorm (None, 14, 14, 384)  1536        block_9_depthwise[0][0]          \n",
      "__________________________________________________________________________________________________\n",
      "block_9_depthwise_relu (ReLU)   (None, 14, 14, 384)  0           block_9_depthwise_BN[0][0]       \n",
      "__________________________________________________________________________________________________\n",
      "block_9_project (Conv2D)        (None, 14, 14, 64)   24576       block_9_depthwise_relu[0][0]     \n",
      "__________________________________________________________________________________________________\n",
      "block_9_project_BN (BatchNormal (None, 14, 14, 64)   256         block_9_project[0][0]            \n",
      "__________________________________________________________________________________________________\n",
      "block_9_add (Add)               (None, 14, 14, 64)   0           block_8_add[0][0]                \n",
      "                                                                 block_9_project_BN[0][0]         \n",
      "__________________________________________________________________________________________________\n",
      "block_10_expand (Conv2D)        (None, 14, 14, 384)  24576       block_9_add[0][0]                \n",
      "__________________________________________________________________________________________________\n",
      "block_10_expand_BN (BatchNormal (None, 14, 14, 384)  1536        block_10_expand[0][0]            \n",
      "__________________________________________________________________________________________________\n",
      "block_10_expand_relu (ReLU)     (None, 14, 14, 384)  0           block_10_expand_BN[0][0]         \n",
      "__________________________________________________________________________________________________\n",
      "block_10_depthwise (DepthwiseCo (None, 14, 14, 384)  3456        block_10_expand_relu[0][0]       \n",
      "__________________________________________________________________________________________________\n",
      "block_10_depthwise_BN (BatchNor (None, 14, 14, 384)  1536        block_10_depthwise[0][0]         \n",
      "__________________________________________________________________________________________________\n",
      "block_10_depthwise_relu (ReLU)  (None, 14, 14, 384)  0           block_10_depthwise_BN[0][0]      \n",
      "__________________________________________________________________________________________________\n",
      "block_10_project (Conv2D)       (None, 14, 14, 96)   36864       block_10_depthwise_relu[0][0]    \n",
      "__________________________________________________________________________________________________\n",
      "block_10_project_BN (BatchNorma (None, 14, 14, 96)   384         block_10_project[0][0]           \n",
      "__________________________________________________________________________________________________\n",
      "block_11_expand (Conv2D)        (None, 14, 14, 576)  55296       block_10_project_BN[0][0]        \n",
      "__________________________________________________________________________________________________\n",
      "block_11_expand_BN (BatchNormal (None, 14, 14, 576)  2304        block_11_expand[0][0]            \n",
      "__________________________________________________________________________________________________\n",
      "block_11_expand_relu (ReLU)     (None, 14, 14, 576)  0           block_11_expand_BN[0][0]         \n",
      "__________________________________________________________________________________________________\n",
      "block_11_depthwise (DepthwiseCo (None, 14, 14, 576)  5184        block_11_expand_relu[0][0]       \n",
      "__________________________________________________________________________________________________\n",
      "block_11_depthwise_BN (BatchNor (None, 14, 14, 576)  2304        block_11_depthwise[0][0]         \n",
      "__________________________________________________________________________________________________\n",
      "block_11_depthwise_relu (ReLU)  (None, 14, 14, 576)  0           block_11_depthwise_BN[0][0]      \n",
      "__________________________________________________________________________________________________\n",
      "block_11_project (Conv2D)       (None, 14, 14, 96)   55296       block_11_depthwise_relu[0][0]    \n",
      "__________________________________________________________________________________________________\n",
      "block_11_project_BN (BatchNorma (None, 14, 14, 96)   384         block_11_project[0][0]           \n",
      "__________________________________________________________________________________________________\n",
      "block_11_add (Add)              (None, 14, 14, 96)   0           block_10_project_BN[0][0]        \n",
      "                                                                 block_11_project_BN[0][0]        \n",
      "__________________________________________________________________________________________________\n",
      "block_12_expand (Conv2D)        (None, 14, 14, 576)  55296       block_11_add[0][0]               \n",
      "__________________________________________________________________________________________________\n",
      "block_12_expand_BN (BatchNormal (None, 14, 14, 576)  2304        block_12_expand[0][0]            \n",
      "__________________________________________________________________________________________________\n",
      "block_12_expand_relu (ReLU)     (None, 14, 14, 576)  0           block_12_expand_BN[0][0]         \n",
      "__________________________________________________________________________________________________\n",
      "block_12_depthwise (DepthwiseCo (None, 14, 14, 576)  5184        block_12_expand_relu[0][0]       \n",
      "__________________________________________________________________________________________________\n",
      "block_12_depthwise_BN (BatchNor (None, 14, 14, 576)  2304        block_12_depthwise[0][0]         \n",
      "__________________________________________________________________________________________________\n",
      "block_12_depthwise_relu (ReLU)  (None, 14, 14, 576)  0           block_12_depthwise_BN[0][0]      \n",
      "__________________________________________________________________________________________________\n",
      "block_12_project (Conv2D)       (None, 14, 14, 96)   55296       block_12_depthwise_relu[0][0]    \n",
      "__________________________________________________________________________________________________\n",
      "block_12_project_BN (BatchNorma (None, 14, 14, 96)   384         block_12_project[0][0]           \n",
      "__________________________________________________________________________________________________\n",
      "block_12_add (Add)              (None, 14, 14, 96)   0           block_11_add[0][0]               \n",
      "                                                                 block_12_project_BN[0][0]        \n",
      "__________________________________________________________________________________________________\n",
      "block_13_expand (Conv2D)        (None, 14, 14, 576)  55296       block_12_add[0][0]               \n",
      "__________________________________________________________________________________________________\n",
      "block_13_expand_BN (BatchNormal (None, 14, 14, 576)  2304        block_13_expand[0][0]            \n",
      "__________________________________________________________________________________________________\n",
      "block_13_expand_relu (ReLU)     (None, 14, 14, 576)  0           block_13_expand_BN[0][0]         \n",
      "__________________________________________________________________________________________________\n",
      "block_13_pad (ZeroPadding2D)    (None, 15, 15, 576)  0           block_13_expand_relu[0][0]       \n",
      "__________________________________________________________________________________________________\n",
      "block_13_depthwise (DepthwiseCo (None, 7, 7, 576)    5184        block_13_pad[0][0]               \n",
      "__________________________________________________________________________________________________\n",
      "block_13_depthwise_BN (BatchNor (None, 7, 7, 576)    2304        block_13_depthwise[0][0]         \n",
      "__________________________________________________________________________________________________\n",
      "block_13_depthwise_relu (ReLU)  (None, 7, 7, 576)    0           block_13_depthwise_BN[0][0]      \n",
      "__________________________________________________________________________________________________\n",
      "block_13_project (Conv2D)       (None, 7, 7, 160)    92160       block_13_depthwise_relu[0][0]    \n",
      "__________________________________________________________________________________________________\n",
      "block_13_project_BN (BatchNorma (None, 7, 7, 160)    640         block_13_project[0][0]           \n",
      "__________________________________________________________________________________________________\n",
      "block_14_expand (Conv2D)        (None, 7, 7, 960)    153600      block_13_project_BN[0][0]        \n",
      "__________________________________________________________________________________________________\n",
      "block_14_expand_BN (BatchNormal (None, 7, 7, 960)    3840        block_14_expand[0][0]            \n",
      "__________________________________________________________________________________________________\n",
      "block_14_expand_relu (ReLU)     (None, 7, 7, 960)    0           block_14_expand_BN[0][0]         \n",
      "__________________________________________________________________________________________________\n",
      "block_14_depthwise (DepthwiseCo (None, 7, 7, 960)    8640        block_14_expand_relu[0][0]       \n",
      "__________________________________________________________________________________________________\n",
      "block_14_depthwise_BN (BatchNor (None, 7, 7, 960)    3840        block_14_depthwise[0][0]         \n",
      "__________________________________________________________________________________________________\n",
      "block_14_depthwise_relu (ReLU)  (None, 7, 7, 960)    0           block_14_depthwise_BN[0][0]      \n",
      "__________________________________________________________________________________________________\n",
      "block_14_project (Conv2D)       (None, 7, 7, 160)    153600      block_14_depthwise_relu[0][0]    \n",
      "__________________________________________________________________________________________________\n",
      "block_14_project_BN (BatchNorma (None, 7, 7, 160)    640         block_14_project[0][0]           \n",
      "__________________________________________________________________________________________________\n",
      "block_14_add (Add)              (None, 7, 7, 160)    0           block_13_project_BN[0][0]        \n",
      "                                                                 block_14_project_BN[0][0]        \n",
      "__________________________________________________________________________________________________\n",
      "block_15_expand (Conv2D)        (None, 7, 7, 960)    153600      block_14_add[0][0]               \n",
      "__________________________________________________________________________________________________\n",
      "block_15_expand_BN (BatchNormal (None, 7, 7, 960)    3840        block_15_expand[0][0]            \n",
      "__________________________________________________________________________________________________\n",
      "block_15_expand_relu (ReLU)     (None, 7, 7, 960)    0           block_15_expand_BN[0][0]         \n",
      "__________________________________________________________________________________________________\n",
      "block_15_depthwise (DepthwiseCo (None, 7, 7, 960)    8640        block_15_expand_relu[0][0]       \n",
      "__________________________________________________________________________________________________\n",
      "block_15_depthwise_BN (BatchNor (None, 7, 7, 960)    3840        block_15_depthwise[0][0]         \n",
      "__________________________________________________________________________________________________\n",
      "block_15_depthwise_relu (ReLU)  (None, 7, 7, 960)    0           block_15_depthwise_BN[0][0]      \n",
      "__________________________________________________________________________________________________\n",
      "block_15_project (Conv2D)       (None, 7, 7, 160)    153600      block_15_depthwise_relu[0][0]    \n",
      "__________________________________________________________________________________________________\n",
      "block_15_project_BN (BatchNorma (None, 7, 7, 160)    640         block_15_project[0][0]           \n",
      "__________________________________________________________________________________________________\n",
      "block_15_add (Add)              (None, 7, 7, 160)    0           block_14_add[0][0]               \n",
      "                                                                 block_15_project_BN[0][0]        \n",
      "__________________________________________________________________________________________________\n",
      "block_16_expand (Conv2D)        (None, 7, 7, 960)    153600      block_15_add[0][0]               \n",
      "__________________________________________________________________________________________________\n",
      "block_16_expand_BN (BatchNormal (None, 7, 7, 960)    3840        block_16_expand[0][0]            \n",
      "__________________________________________________________________________________________________\n",
      "block_16_expand_relu (ReLU)     (None, 7, 7, 960)    0           block_16_expand_BN[0][0]         \n",
      "__________________________________________________________________________________________________\n",
      "block_16_depthwise (DepthwiseCo (None, 7, 7, 960)    8640        block_16_expand_relu[0][0]       \n",
      "__________________________________________________________________________________________________\n",
      "block_16_depthwise_BN (BatchNor (None, 7, 7, 960)    3840        block_16_depthwise[0][0]         \n",
      "__________________________________________________________________________________________________\n",
      "block_16_depthwise_relu (ReLU)  (None, 7, 7, 960)    0           block_16_depthwise_BN[0][0]      \n",
      "__________________________________________________________________________________________________\n",
      "block_16_project (Conv2D)       (None, 7, 7, 320)    307200      block_16_depthwise_relu[0][0]    \n",
      "__________________________________________________________________________________________________\n",
      "block_16_project_BN (BatchNorma (None, 7, 7, 320)    1280        block_16_project[0][0]           \n",
      "__________________________________________________________________________________________________\n",
      "Conv_1 (Conv2D)                 (None, 7, 7, 1280)   409600      block_16_project_BN[0][0]        \n",
      "__________________________________________________________________________________________________\n",
      "Conv_1_bn (BatchNormalizationV1 (None, 7, 7, 1280)   5120        Conv_1[0][0]                     \n",
      "__________________________________________________________________________________________________\n",
      "out_relu (ReLU)                 (None, 7, 7, 1280)   0           Conv_1_bn[0][0]                  \n",
      "__________________________________________________________________________________________________\n",
      "global_average_pooling2d_8 (Glo (None, 1280)         0           out_relu[0][0]                   \n",
      "__________________________________________________________________________________________________\n",
      "Logits (Dense)                  (None, 1000)         1281000     global_average_pooling2d_8[0][0] \n",
      "__________________________________________________________________________________________________\n",
      "dropout_6 (Dropout)             (None, 1000)         0           Logits[0][0]                     \n",
      "__________________________________________________________________________________________________\n",
      "dense_8 (Dense)                 (None, 1)            1001        dropout_6[0][0]                  \n",
      "==================================================================================================\n",
      "Total params: 3,539,985\n",
      "Trainable params: 3,505,873\n",
      "Non-trainable params: 34,112\n",
      "__________________________________________________________________________________________________\n"
     ]
    }
   ],
   "source": [
    "layer = mobile.layers[-1].output\n",
    "\n",
    "# Create a new dense layer for predictions\n",
    "\n",
    "layer = Dropout(0.2)(layer)\n",
    "predictions = Dense(1, activation='sigmoid')(layer)\n",
    "\n",
    "model3 = Model(inputs=mobile.input, outputs=predictions)\n",
    "model3.summary()"
   ]
  },
  {
   "cell_type": "code",
   "execution_count": 350,
   "metadata": {},
   "outputs": [
    {
     "name": "stdout",
     "output_type": "stream",
     "text": [
      "Found 7616 images belonging to 2 classes.\n",
      "Found 846 images belonging to 2 classes.\n",
      "Found 552 images belonging to 2 classes.\n"
     ]
    }
   ],
   "source": [
    "train_generator3 = train_datagen.flow_from_directory(train_dir, subset= \"training\",target_size=(224,224),batch_size=4466)\n",
    "\n",
    "validation_generator3 = train_datagen.flow_from_directory(train_dir, subset=\"validation\",target_size=(224,224),batch_size=496)\n",
    "\n",
    "test_generator3 = test_datagen.flow_from_directory(test_dir, target_size=(224,224), shuffle=False, batch_size=552)"
   ]
  },
  {
   "cell_type": "code",
   "execution_count": 351,
   "metadata": {},
   "outputs": [],
   "source": [
    "train_images3, train_labels3 = next(train_generator3)\n",
    "test_images3, test_labels3 = next(test_generator3)\n",
    "val_images3, val_labels3 = next(validation_generator3)"
   ]
  },
  {
   "cell_type": "code",
   "execution_count": 352,
   "metadata": {},
   "outputs": [
    {
     "name": "stdout",
     "output_type": "stream",
     "text": [
      "Number of training samples: 4466\n",
      "Number of testing samples: 552\n",
      "Number of validation samples: 496\n",
      "train_images shape: (4466, 224, 224, 3)\n",
      "train_labels shape: (4466, 2)\n",
      "test_images shape: (552, 224, 224, 3)\n",
      "test_labels shape: (552, 2)\n",
      "val_images shape: (496, 224, 224, 3)\n",
      "val_labels shape: (496, 2)\n"
     ]
    }
   ],
   "source": [
    "m_train3 = train_images3.shape[0]\n",
    "num_px3 = train_images3.shape[1]\n",
    "m_test3 = test_images3.shape[0]\n",
    "m_val3 = val_images3.shape[0]\n",
    "\n",
    "print (\"Number of training samples: \" + str(m_train3))\n",
    "print (\"Number of testing samples: \" + str(m_test3))\n",
    "print (\"Number of validation samples: \" + str(m_val3))\n",
    "print (\"train_images shape: \" + str(train_images3.shape))\n",
    "print (\"train_labels shape: \" + str(train_labels3.shape))\n",
    "print (\"test_images shape: \" + str(test_images3.shape))\n",
    "print (\"test_labels shape: \" + str(test_labels3.shape))\n",
    "print (\"val_images shape: \" + str(val_images3.shape))\n",
    "print (\"val_labels shape: \" + str(val_labels3.shape))"
   ]
  },
  {
   "cell_type": "code",
   "execution_count": 353,
   "metadata": {
    "scrolled": true
   },
   "outputs": [
    {
     "name": "stdout",
     "output_type": "stream",
     "text": [
      "(4466, 150528)\n",
      "(552, 150528)\n",
      "(496, 150528)\n"
     ]
    }
   ],
   "source": [
    "train_img3 = train_images3.reshape(train_images3.shape[0], -1)\n",
    "test_img3 = test_images3.reshape(test_images3.shape[0], -1)\n",
    "val_img3 = val_images3.reshape(val_images3.shape[0], -1)\n",
    "\n",
    "print(train_img3.shape)\n",
    "print(test_img3.shape)\n",
    "print(val_img3.shape)"
   ]
  },
  {
   "cell_type": "code",
   "execution_count": 354,
   "metadata": {},
   "outputs": [],
   "source": [
    "train_y3 = np.reshape(train_labels3, (2, 4466))\n",
    "test_y3 = np.reshape(test_labels3, (2, 552))\n",
    "val_y3 = np.reshape(val_labels3, (2, 496))"
   ]
  },
  {
   "cell_type": "code",
   "execution_count": 355,
   "metadata": {},
   "outputs": [],
   "source": [
    "train_labels_final3 = train_labels3.T[[1]]\n",
    "test_labels_final3 = test_labels3.T[[1]]\n",
    "val_labels_final3 = val_labels3.T[[1]]"
   ]
  },
  {
   "cell_type": "code",
   "execution_count": 356,
   "metadata": {},
   "outputs": [
    {
     "name": "stdout",
     "output_type": "stream",
     "text": [
      "(1, 4466)\n",
      "(1, 552)\n",
      "(1, 496)\n",
      "(2, 4466)\n",
      "(2, 552)\n",
      "(2, 496)\n"
     ]
    }
   ],
   "source": [
    "print(train_labels_final3.shape)\n",
    "print(test_labels_final3.shape)\n",
    "print(val_labels_final3.shape)\n",
    "print (train_y3.shape)\n",
    "print (test_y3.shape)\n",
    "print (val_y3.shape)"
   ]
  },
  {
   "cell_type": "code",
   "execution_count": 357,
   "metadata": {},
   "outputs": [],
   "source": [
    "train_y3 = np.reshape(train_labels_final3, (4466,1))\n",
    "test_y3 = np.reshape(test_labels_final3, (552,1))\n",
    "val_y3 = np.reshape(val_labels_final3, (496,1))"
   ]
  },
  {
   "cell_type": "code",
   "execution_count": 358,
   "metadata": {
    "scrolled": false
   },
   "outputs": [
    {
     "name": "stdout",
     "output_type": "stream",
     "text": [
      "input_9 False\n",
      "Conv1_pad False\n",
      "Conv1 False\n",
      "bn_Conv1 False\n",
      "Conv1_relu False\n",
      "expanded_conv_depthwise False\n",
      "expanded_conv_depthwise_BN False\n",
      "expanded_conv_depthwise_relu False\n",
      "expanded_conv_project False\n",
      "expanded_conv_project_BN False\n",
      "block_1_expand False\n",
      "block_1_expand_BN False\n",
      "block_1_expand_relu False\n",
      "block_1_pad False\n",
      "block_1_depthwise False\n",
      "block_1_depthwise_BN False\n",
      "block_1_depthwise_relu False\n",
      "block_1_project False\n",
      "block_1_project_BN False\n",
      "block_2_expand False\n",
      "block_2_expand_BN False\n",
      "block_2_expand_relu False\n",
      "block_2_depthwise False\n",
      "block_2_depthwise_BN False\n",
      "block_2_depthwise_relu False\n",
      "block_2_project False\n",
      "block_2_project_BN False\n",
      "block_2_add False\n",
      "block_3_expand False\n",
      "block_3_expand_BN False\n",
      "block_3_expand_relu False\n",
      "block_3_pad False\n",
      "block_3_depthwise False\n",
      "block_3_depthwise_BN False\n",
      "block_3_depthwise_relu False\n",
      "block_3_project False\n",
      "block_3_project_BN False\n",
      "block_4_expand False\n",
      "block_4_expand_BN False\n",
      "block_4_expand_relu False\n",
      "block_4_depthwise False\n",
      "block_4_depthwise_BN False\n",
      "block_4_depthwise_relu False\n",
      "block_4_project False\n",
      "block_4_project_BN False\n",
      "block_4_add False\n",
      "block_5_expand False\n",
      "block_5_expand_BN False\n",
      "block_5_expand_relu False\n",
      "block_5_depthwise False\n",
      "block_5_depthwise_BN False\n",
      "block_5_depthwise_relu False\n",
      "block_5_project False\n",
      "block_5_project_BN False\n",
      "block_5_add False\n",
      "block_6_expand False\n",
      "block_6_expand_BN False\n",
      "block_6_expand_relu False\n",
      "block_6_pad False\n",
      "block_6_depthwise False\n",
      "block_6_depthwise_BN False\n",
      "block_6_depthwise_relu False\n",
      "block_6_project False\n",
      "block_6_project_BN False\n",
      "block_7_expand False\n",
      "block_7_expand_BN False\n",
      "block_7_expand_relu False\n",
      "block_7_depthwise False\n",
      "block_7_depthwise_BN False\n",
      "block_7_depthwise_relu False\n",
      "block_7_project False\n",
      "block_7_project_BN False\n",
      "block_7_add False\n",
      "block_8_expand False\n",
      "block_8_expand_BN False\n",
      "block_8_expand_relu False\n",
      "block_8_depthwise False\n",
      "block_8_depthwise_BN False\n",
      "block_8_depthwise_relu False\n",
      "block_8_project False\n",
      "block_8_project_BN False\n",
      "block_8_add False\n",
      "block_9_expand False\n",
      "block_9_expand_BN False\n",
      "block_9_expand_relu False\n",
      "block_9_depthwise False\n",
      "block_9_depthwise_BN False\n",
      "block_9_depthwise_relu False\n",
      "block_9_project False\n",
      "block_9_project_BN False\n",
      "block_9_add False\n",
      "block_10_expand False\n",
      "block_10_expand_BN False\n",
      "block_10_expand_relu False\n",
      "block_10_depthwise False\n",
      "block_10_depthwise_BN False\n",
      "block_10_depthwise_relu False\n",
      "block_10_project False\n",
      "block_10_project_BN False\n",
      "block_11_expand False\n",
      "block_11_expand_BN False\n",
      "block_11_expand_relu False\n",
      "block_11_depthwise False\n",
      "block_11_depthwise_BN False\n",
      "block_11_depthwise_relu False\n",
      "block_11_project False\n",
      "block_11_project_BN False\n",
      "block_11_add False\n",
      "block_12_expand False\n",
      "block_12_expand_BN False\n",
      "block_12_expand_relu False\n",
      "block_12_depthwise False\n",
      "block_12_depthwise_BN False\n",
      "block_12_depthwise_relu False\n",
      "block_12_project False\n",
      "block_12_project_BN False\n",
      "block_12_add False\n",
      "block_13_expand False\n",
      "block_13_expand_BN False\n",
      "block_13_expand_relu False\n",
      "block_13_pad False\n",
      "block_13_depthwise False\n",
      "block_13_depthwise_BN False\n",
      "block_13_depthwise_relu False\n",
      "block_13_project False\n",
      "block_13_project_BN False\n",
      "block_14_expand False\n",
      "block_14_expand_BN False\n",
      "block_14_expand_relu False\n",
      "block_14_depthwise False\n",
      "block_14_depthwise_BN False\n",
      "block_14_depthwise_relu False\n",
      "block_14_project False\n",
      "block_14_project_BN False\n",
      "block_14_add True\n",
      "block_15_expand True\n",
      "block_15_expand_BN True\n",
      "block_15_expand_relu True\n",
      "block_15_depthwise True\n",
      "block_15_depthwise_BN True\n",
      "block_15_depthwise_relu True\n",
      "block_15_project True\n",
      "block_15_project_BN True\n",
      "block_15_add True\n",
      "block_16_expand True\n",
      "block_16_expand_BN True\n",
      "block_16_expand_relu True\n",
      "block_16_depthwise True\n",
      "block_16_depthwise_BN True\n",
      "block_16_depthwise_relu True\n",
      "block_16_project True\n",
      "block_16_project_BN True\n",
      "Conv_1 True\n",
      "Conv_1_bn True\n",
      "out_relu True\n",
      "global_average_pooling2d_8 True\n",
      "Logits True\n",
      "dropout_6 True\n",
      "dense_8 True\n",
      "25\n"
     ]
    }
   ],
   "source": [
    "#freezing layers\n",
    "for layer in model3.layers[:-25]:\n",
    "    layer.trainable = False\n",
    "for layer in model3.layers:\n",
    "    print(layer.name, layer.trainable)\n",
    "print(len(model3.trainable_weights))"
   ]
  },
  {
   "cell_type": "code",
   "execution_count": 359,
   "metadata": {},
   "outputs": [],
   "source": [
    "model3.save('model3.h5')"
   ]
  },
  {
   "cell_type": "code",
   "execution_count": 360,
   "metadata": {},
   "outputs": [],
   "source": [
    "filepath=\"model3.h5\"\n",
    "checkpoint = ModelCheckpoint(filepath, monitor='val_acc', verbose=1, save_best_only=True, mode='max')\n",
    "stopping = EarlyStopping(monitor='val_loss', min_delta=0, patience=4, verbose=1, mode='auto', baseline=None, restore_best_weights=True)\n",
    "callbacks_list = [checkpoint, stopping]"
   ]
  },
  {
   "cell_type": "code",
   "execution_count": 361,
   "metadata": {},
   "outputs": [],
   "source": [
    "model3.compile(Adam(lr=0.001),loss='binary_crossentropy', metrics=['accuracy'])"
   ]
  },
  {
   "cell_type": "code",
   "execution_count": 362,
   "metadata": {
    "scrolled": false
   },
   "outputs": [
    {
     "name": "stdout",
     "output_type": "stream",
     "text": [
      "Train on 4466 samples, validate on 496 samples\n",
      "Epoch 1/50\n",
      "4444/4466 [============================>.] - ETA: 1s - loss: 0.6566 - acc: 0.5950 \n",
      "Epoch 00001: val_acc improved from -inf to 0.54234, saving model to model3.h5\n",
      "4466/4466 [==============================] - 346s 77ms/sample - loss: 0.6565 - acc: 0.5961 - val_loss: 0.6912 - val_acc: 0.5423\n",
      "Epoch 2/50\n",
      "4444/4466 [============================>.] - ETA: 1s - loss: 0.6306 - acc: 0.8562 \n",
      "Epoch 00002: val_acc improved from 0.54234 to 0.68548, saving model to model3.h5\n",
      "4466/4466 [==============================] - 351s 79ms/sample - loss: 0.6305 - acc: 0.8567 - val_loss: 0.6788 - val_acc: 0.6855\n",
      "Epoch 3/50\n",
      "4444/4466 [============================>.] - ETA: 1s - loss: 0.6104 - acc: 0.8621 \n",
      "Epoch 00003: val_acc improved from 0.68548 to 0.71169, saving model to model3.h5\n",
      "4466/4466 [==============================] - 327s 73ms/sample - loss: 0.6103 - acc: 0.8621 - val_loss: 0.6674 - val_acc: 0.7117\n",
      "Epoch 4/50\n",
      "4444/4466 [============================>.] - ETA: 1s - loss: 0.5901 - acc: 0.8738 \n",
      "Epoch 00004: val_acc did not improve from 0.71169\n",
      "4466/4466 [==============================] - 317s 71ms/sample - loss: 0.5900 - acc: 0.8735 - val_loss: 0.6971 - val_acc: 0.5202\n",
      "Epoch 5/50\n",
      "4444/4466 [============================>.] - ETA: 1s - loss: 0.5678 - acc: 0.8778 \n",
      "Epoch 00005: val_acc did not improve from 0.71169\n",
      "4466/4466 [==============================] - 323s 72ms/sample - loss: 0.5679 - acc: 0.8784 - val_loss: 0.6646 - val_acc: 0.6794\n",
      "Epoch 6/50\n",
      "4444/4466 [============================>.] - ETA: 1s - loss: 0.5495 - acc: 0.8832 \n",
      "Epoch 00006: val_acc did not improve from 0.71169\n",
      "4466/4466 [==============================] - 316s 71ms/sample - loss: 0.5494 - acc: 0.8827 - val_loss: 0.6891 - val_acc: 0.5464\n",
      "Epoch 7/50\n",
      "4444/4466 [============================>.] - ETA: 1s - loss: 0.5304 - acc: 0.8837 \n",
      "Epoch 00007: val_acc did not improve from 0.71169\n",
      "4466/4466 [==============================] - 323s 72ms/sample - loss: 0.5303 - acc: 0.8836 - val_loss: 0.6617 - val_acc: 0.6714\n",
      "Epoch 8/50\n",
      "4444/4466 [============================>.] - ETA: 1s - loss: 0.5156 - acc: 0.8810 \n",
      "Epoch 00008: val_acc did not improve from 0.71169\n",
      "4466/4466 [==============================] - 328s 74ms/sample - loss: 0.5155 - acc: 0.8813 - val_loss: 0.6839 - val_acc: 0.5948\n",
      "Epoch 9/50\n",
      "4444/4466 [============================>.] - ETA: 1s - loss: 0.4995 - acc: 0.8859 \n",
      "Epoch 00009: val_acc did not improve from 0.71169\n",
      "4466/4466 [==============================] - 330s 74ms/sample - loss: 0.4995 - acc: 0.8860 - val_loss: 0.6871 - val_acc: 0.5847\n",
      "Epoch 10/50\n",
      "4444/4466 [============================>.] - ETA: 1s - loss: 0.4853 - acc: 0.8803 \n",
      "Epoch 00010: val_acc did not improve from 0.71169\n",
      "4466/4466 [==============================] - 331s 74ms/sample - loss: 0.4853 - acc: 0.8807 - val_loss: 0.6781 - val_acc: 0.6290\n",
      "Epoch 11/50\n",
      "4444/4466 [============================>.] - ETA: 1s - loss: 0.4680 - acc: 0.8870 \n",
      "Epoch 00011: val_acc did not improve from 0.71169\n",
      "Restoring model weights from the end of the best epoch.\n",
      "4466/4466 [==============================] - 338s 76ms/sample - loss: 0.4681 - acc: 0.8876 - val_loss: 0.6643 - val_acc: 0.6714\n",
      "Epoch 00011: early stopping\n"
     ]
    }
   ],
   "source": [
    "history3 = model3.fit(train_images3, train_y3, \n",
    "                              class_weight=class_weights,\n",
    "                    validation_data=(val_images3, val_y3), batch_size=202,\n",
    "                    epochs=50, verbose=1, callbacks=callbacks_list)"
   ]
  },
  {
   "cell_type": "code",
   "execution_count": 363,
   "metadata": {
    "scrolled": false
   },
   "outputs": [
    {
     "data": {
      "image/png": "[encoded data removed]",
      "text/plain": [
       "<Figure size 432x288 with 1 Axes>"
      ]
     },
     "metadata": {
      "needs_background": "light"
     },
     "output_type": "display_data"
    },
    {
     "data": {
      "image/png": "[encoded data removed]",
      "text/plain": [
       "<Figure size 432x288 with 1 Axes>"
      ]
     },
     "metadata": {
      "needs_background": "light"
     },
     "output_type": "display_data"
    }
   ],
   "source": [
    "acc = history3.history['acc']\n",
    "val_acc = history3.history['val_acc']\n",
    "loss = history3.history['loss']\n",
    "val_loss = history3.history['val_loss']\n",
    "epochs = range(len(acc))\n",
    "plt.plot(epochs, acc, 'bo', label='Training acc')\n",
    "plt.plot(epochs, val_acc, 'b', label='Validation acc')\n",
    "plt.title('Training and validation accuracy')\n",
    "plt.legend()\n",
    "plt.figure()\n",
    "plt.plot(epochs, loss, 'bo', label='Training loss')\n",
    "plt.plot(epochs, val_loss, 'b', label='Validation loss')\n",
    "plt.title('Training and validation loss')\n",
    "plt.legend()\n",
    "plt.show()"
   ]
  },
  {
   "cell_type": "code",
   "execution_count": 148,
   "metadata": {},
   "outputs": [],
   "source": [
    "model3.load_weights('model3.h5')"
   ]
  },
  {
   "cell_type": "code",
   "execution_count": 364,
   "metadata": {},
   "outputs": [
    {
     "name": "stdout",
     "output_type": "stream",
     "text": [
      "552/552 [==============================] - 23s 42ms/sample - loss: 0.6614 - acc: 0.8333\n",
      "test acc: 0.8333333\n",
      "test loss: 0.6613880706870038\n"
     ]
    }
   ],
   "source": [
    "test_loss, test_acc = model3.evaluate(test_images3, test_y3)\n",
    "print('test acc:', test_acc)\n",
    "print('test loss:', test_loss)"
   ]
  },
  {
   "cell_type": "code",
   "execution_count": 365,
   "metadata": {},
   "outputs": [],
   "source": [
    "y_pred3 = model3.predict(test_images3, batch_size=1)"
   ]
  },
  {
   "cell_type": "code",
   "execution_count": 373,
   "metadata": {},
   "outputs": [],
   "source": [
    "y_pred3 =(y_pred3>0.5)"
   ]
  },
  {
   "cell_type": "code",
   "execution_count": 372,
   "metadata": {},
   "outputs": [
    {
     "name": "stdout",
     "output_type": "stream",
     "text": [
      "Normalized confusion matrix\n",
      "[[0.87096774 0.12903226]\n",
      " [0.5        0.5       ]]\n"
     ]
    },
    {
     "data": {
      "image/png": "[encoded data removed]",
      "text/plain": [
       "<Figure size 432x288 with 2 Axes>"
      ]
     },
     "metadata": {
      "needs_background": "light"
     },
     "output_type": "display_data"
    }
   ],
   "source": [
    "cm = confusion_matrix(test_y3, y_pred3)\n",
    "\n",
    "plot_confusion_matrix(cm, cm_plot_labels, normalize=True)"
   ]
  },
  {
   "cell_type": "markdown",
   "metadata": {},
   "source": [
    "# Model 4: Pretrained Model with Data Augmentation:"
   ]
  },
  {
   "cell_type": "code",
   "execution_count": 239,
   "metadata": {},
   "outputs": [
    {
     "name": "stdout",
     "output_type": "stream",
     "text": [
      "Found 500 images belonging to 1 classes.\n"
     ]
    }
   ],
   "source": [
    "to_aug = ['malignant']\n",
    "\n",
    "for item in to_aug:\n",
    "    \n",
    "    # creating temporary directories to delete later\n",
    "    # create a base dir\n",
    "    aug_dir = 'aug_dir'\n",
    "    os.mkdir(aug_dir)\n",
    "    # create a dir within the base dir to store images of the same class\n",
    "    img_dir = os.path.join(aug_dir, 'img_dir')\n",
    "    os.mkdir(img_dir)\n",
    "\n",
    "    # Choose a class\n",
    "    img_class = item\n",
    "    img_list = os.listdir('../dsc-4-final-project-online-ds-ft-112618/base_dir/train_dir/' + img_class)\n",
    "\n",
    "    # Copy images from the class train dir to the img_dir e.g. class 'mel'\n",
    "    for fname in img_list:\n",
    "            # source path to image\n",
    "            src = os.path.join('../dsc-4-final-project-online-ds-ft-112618/base_dir/train_dir/' + img_class, fname)\n",
    "            # destination path to image\n",
    "            dst = os.path.join(img_dir, fname)\n",
    "            # copy the image from the source to the destination\n",
    "            shutil.copyfile(src, dst)\n",
    "\n",
    "\n",
    "    # point to a dir containing the images and not to the images themselves\n",
    "    path = aug_dir\n",
    "    save_path = '../dsc-4-final-project-online-ds-ft-112618/base_dir/train_dir/' + img_class\n",
    "\n",
    "    # Create a data generator\n",
    "    datagen = ImageDataGenerator(\n",
    "        rotation_range=180,\n",
    "        width_shift_range=0.1,\n",
    "        height_shift_range=0.1,\n",
    "        zoom_range=0.1,\n",
    "        horizontal_flip=True,\n",
    "        vertical_flip=True,\n",
    "        brightness_range=(0.9,1.1),\n",
    "        fill_mode='nearest')\n",
    "    batch_size = 50\n",
    "\n",
    "    aug_datagen = datagen.flow_from_directory(path,\n",
    "                                           save_to_dir=save_path,\n",
    "                                           save_format='jpg',\n",
    "                                                    target_size=(224,224),\n",
    "                                                    batch_size=batch_size)\n",
    "\n",
    "\n",
    "\n",
    "    # Generate the augmented images and add them to the training folders\n",
    "    \n",
    "    ###########\n",
    "    \n",
    "    num_aug_images_wanted = 4000 # total number of images we want to have in each class\n",
    "    \n",
    "    ###########\n",
    "    \n",
    "    num_files = len(os.listdir(img_dir))\n",
    "    num_batches = int(np.ceil((num_aug_images_wanted-num_files)/batch_size))\n",
    "\n",
    "    # run the generator and create about 4000 augmented images\n",
    "    for i in range(0,num_batches):\n",
    "\n",
    "        imgs, labels = next(aug_datagen)\n",
    "        \n",
    "    # delete temporary directory with the raw image files\n",
    "    shutil.rmtree('aug_dir')"
   ]
  },
  {
   "cell_type": "code",
   "execution_count": 610,
   "metadata": {},
   "outputs": [],
   "source": [
    "train_datagen = ImageDataGenerator(rescale=1./255, validation_split=.1)\n",
    "test_datagen = ImageDataGenerator(rescale=1./255)"
   ]
  },
  {
   "cell_type": "code",
   "execution_count": 611,
   "metadata": {
    "scrolled": true
   },
   "outputs": [
    {
     "name": "stdout",
     "output_type": "stream",
     "text": [
      "4462\n",
      "4000\n",
      "496\n",
      "56\n"
     ]
    }
   ],
   "source": [
    "print(len(os.listdir('../dsc-4-final-project-online-ds-ft-112618/base_dir/train_dir/benign/')))\n",
    "print(len(os.listdir('../dsc-4-final-project-online-ds-ft-112618/base_dir/train_dir/malignant/')))\n",
    "print(len(os.listdir('../dsc-4-final-project-online-ds-ft-112618/base_dir/test_dir/benign/')))\n",
    "print(len(os.listdir('../dsc-4-final-project-online-ds-ft-112618/base_dir/test_dir/malignant/')))"
   ]
  },
  {
   "cell_type": "code",
   "execution_count": 618,
   "metadata": {
    "scrolled": true
   },
   "outputs": [
    {
     "name": "stdout",
     "output_type": "stream",
     "text": [
      "Found 7616 images belonging to 2 classes.\n",
      "Found 846 images belonging to 2 classes.\n",
      "Found 552 images belonging to 2 classes.\n"
     ]
    }
   ],
   "source": [
    "train_generator3 = train_datagen.flow_from_directory(\n",
    "        # This is the target directory\n",
    "        train_dir, subset= \"training\", shuffle=True,\n",
    "        # All images will be resized to 150x150\n",
    "        target_size=(150,150),\n",
    "        batch_size=7616)\n",
    "\n",
    "validation_generator3 = train_datagen.flow_from_directory(\n",
    "        train_dir, subset=\"validation\", shuffle=True,\n",
    "        target_size=(150,150),\n",
    "        batch_size=846)\n",
    "test_generator3 = test_datagen.flow_from_directory(\n",
    "        test_dir,\n",
    "        target_size=(150,150), shuffle=False,\n",
    "        batch_size=552)"
   ]
  },
  {
   "cell_type": "code",
   "execution_count": 619,
   "metadata": {},
   "outputs": [],
   "source": [
    "train_images3, train_labels3 = next(train_generator3)\n",
    "test_images3, test_labels3 = next(test_generator3)\n",
    "val_images3, val_labels3 = next(validation_generator3)"
   ]
  },
  {
   "cell_type": "code",
   "execution_count": 620,
   "metadata": {},
   "outputs": [
    {
     "name": "stdout",
     "output_type": "stream",
     "text": [
      "Number of training samples: 7616\n",
      "Number of testing samples: 552\n",
      "Number of validation samples: 846\n",
      "train_images shape: (7616, 150, 150, 3)\n",
      "train_labels shape: (7616, 2)\n",
      "test_images shape: (552, 150, 150, 3)\n",
      "test_labels shape: (552, 2)\n",
      "val_images shape: (846, 150, 150, 3)\n",
      "val_labels shape: (846, 2)\n"
     ]
    }
   ],
   "source": [
    "m_train3 = train_images3.shape[0]\n",
    "num_px3 = train_images3.shape[1]\n",
    "m_test3 = test_images3.shape[0]\n",
    "m_val3 = val_images3.shape[0]\n",
    "\n",
    "print (\"Number of training samples: \" + str(m_train3))\n",
    "print (\"Number of testing samples: \" + str(m_test3))\n",
    "print (\"Number of validation samples: \" + str(m_val3))\n",
    "print (\"train_images shape: \" + str(train_images3.shape))\n",
    "print (\"train_labels shape: \" + str(train_labels3.shape))\n",
    "print (\"test_images shape: \" + str(test_images3.shape))\n",
    "print (\"test_labels shape: \" + str(test_labels3.shape))\n",
    "print (\"val_images shape: \" + str(val_images3.shape))\n",
    "print (\"val_labels shape: \" + str(val_labels3.shape))"
   ]
  },
  {
   "cell_type": "code",
   "execution_count": 621,
   "metadata": {},
   "outputs": [
    {
     "name": "stdout",
     "output_type": "stream",
     "text": [
      "(7616, 67500)\n",
      "(552, 67500)\n",
      "(846, 67500)\n"
     ]
    }
   ],
   "source": [
    "train_img3 = train_images3.reshape(train_images3.shape[0], -1)\n",
    "test_img3 = test_images3.reshape(test_images3.shape[0], -1)\n",
    "val_img3 = val_images3.reshape(val_images3.shape[0], -1)\n",
    "\n",
    "print(train_img3.shape)\n",
    "print(test_img3.shape)\n",
    "print(val_img3.shape)"
   ]
  },
  {
   "cell_type": "code",
   "execution_count": 622,
   "metadata": {},
   "outputs": [],
   "source": [
    "train_y3 = np.reshape(train_labels3, (2, 7616))\n",
    "test_y3 = np.reshape(test_labels3, (2, 552))\n",
    "val_y3 = np.reshape(val_labels3, (2, 846))"
   ]
  },
  {
   "cell_type": "code",
   "execution_count": 623,
   "metadata": {},
   "outputs": [],
   "source": [
    "train_labels_final3 = train_labels3.T[[1]]\n",
    "test_labels_final3 = test_labels3.T[[1]]\n",
    "val_labels_final3 = val_labels3.T[[1]]"
   ]
  },
  {
   "cell_type": "code",
   "execution_count": 624,
   "metadata": {
    "scrolled": true
   },
   "outputs": [
    {
     "name": "stdout",
     "output_type": "stream",
     "text": [
      "(1, 7616)\n",
      "(1, 552)\n",
      "(1, 846)\n",
      "(2, 7616)\n",
      "(2, 552)\n",
      "(2, 846)\n"
     ]
    }
   ],
   "source": [
    "print(train_labels_final3.shape)\n",
    "print(test_labels_final3.shape)\n",
    "print(val_labels_final3.shape)\n",
    "print (train_y3.shape)\n",
    "print (test_y3.shape)\n",
    "print (val_y3.shape)"
   ]
  },
  {
   "cell_type": "code",
   "execution_count": 625,
   "metadata": {},
   "outputs": [],
   "source": [
    "train_y3 = np.reshape(train_labels_final3, (7616,1))\n",
    "test_y3 = np.reshape(test_labels_final3, (552,1))\n",
    "val_y3 = np.reshape(val_labels_final3, (846,1))"
   ]
  },
  {
   "cell_type": "code",
   "execution_count": 305,
   "metadata": {},
   "outputs": [],
   "source": [
    "filepath=\"model4.h5\"\n",
    "checkpoint = ModelCheckpoint(filepath, monitor='val_acc', verbose=1, save_best_only=True, mode='max')\n",
    "stopping = EarlyStopping(monitor='val_loss', min_delta=0, patience=3, verbose=1, mode='auto', baseline=None, restore_best_weights=False)\n",
    "callbacks_list = [checkpoint, stopping]"
   ]
  },
  {
   "cell_type": "code",
   "execution_count": 308,
   "metadata": {},
   "outputs": [],
   "source": [
    "model4 = models.Sequential()\n",
    "model4.add(layers.Conv2D(32, (3, 3), activation='relu', kernel_regularizer=regularizers.l2(0.005),\n",
    "                        input_shape=(150 ,150,  3)))\n",
    "model4.add(layers.MaxPooling2D((2, 2)))\n",
    "\n",
    "model4.add(layers.Conv2D(32, (4, 4), activation='relu'))\n",
    "model4.add(layers.MaxPooling2D((2, 2)))\n",
    "\n",
    "model4.add(layers.Conv2D(64, (3, 3), activation='relu'))\n",
    "model4.add(layers.MaxPooling2D((2, 2)))\n",
    "\n",
    "model4.add(layers.Flatten())\n",
    "model4.add(layers.Dense(64, activation='relu'))\n",
    "model4.add(layers.Dense(1, activation='sigmoid'))\n",
    "\n",
    "model4.compile(loss='binary_crossentropy',\n",
    "              optimizer=optimizers.Adam(lr=0.001),\n",
    "              metrics=['acc'])\n",
    "\n",
    "model4.save('model4.h5')"
   ]
  },
  {
   "cell_type": "code",
   "execution_count": 309,
   "metadata": {},
   "outputs": [
    {
     "name": "stdout",
     "output_type": "stream",
     "text": [
      "Train on 7616 samples, validate on 846 samples\n",
      "Epoch 1/50\n",
      "7616/7616 [==============================] - 226s 30ms/step - loss: 0.7454 - acc: 0.4988 - val_loss: 0.9354 - val_acc: 0.5047\n",
      "\n",
      "Epoch 00001: val_acc improved from -inf to 0.50473, saving model to model4.h5\n",
      "Epoch 2/50\n",
      "7616/7616 [==============================] - 224s 29ms/step - loss: 0.5512 - acc: 0.6937 - val_loss: 0.7907 - val_acc: 0.7482\n",
      "\n",
      "Epoch 00002: val_acc improved from 0.50473 to 0.74823, saving model to model4.h5\n",
      "Epoch 3/50\n",
      "7616/7616 [==============================] - 219s 29ms/step - loss: 0.4731 - acc: 0.7692 - val_loss: 0.4474 - val_acc: 0.8688\n",
      "\n",
      "Epoch 00003: val_acc improved from 0.74823 to 0.86879, saving model to model4.h5\n",
      "Epoch 4/50\n",
      "7616/7616 [==============================] - 221s 29ms/step - loss: 0.4457 - acc: 0.7849 - val_loss: 0.4413 - val_acc: 0.8534\n",
      "\n",
      "Epoch 00004: val_acc did not improve from 0.86879\n",
      "Epoch 5/50\n",
      "7616/7616 [==============================] - 224s 29ms/step - loss: 0.3919 - acc: 0.8107 - val_loss: 0.4907 - val_acc: 0.8440\n",
      "\n",
      "Epoch 00005: val_acc did not improve from 0.86879\n",
      "Epoch 6/50\n",
      "7616/7616 [==============================] - 217s 28ms/step - loss: 0.3334 - acc: 0.8348 - val_loss: 1.0725 - val_acc: 0.7045\n",
      "\n",
      "Epoch 00006: val_acc did not improve from 0.86879\n",
      "Epoch 7/50\n",
      "7616/7616 [==============================] - 229s 30ms/step - loss: 0.3780 - acc: 0.8133 - val_loss: 0.4082 - val_acc: 0.8641\n",
      "\n",
      "Epoch 00007: val_acc did not improve from 0.86879\n",
      "Epoch 8/50\n",
      "7616/7616 [==============================] - 227s 30ms/step - loss: 0.3144 - acc: 0.8407 - val_loss: 0.4035 - val_acc: 0.8641\n",
      "\n",
      "Epoch 00008: val_acc did not improve from 0.86879\n",
      "Epoch 9/50\n",
      "7616/7616 [==============================] - 211s 28ms/step - loss: 0.2824 - acc: 0.8531 - val_loss: 0.5210 - val_acc: 0.8144\n",
      "\n",
      "Epoch 00009: val_acc did not improve from 0.86879\n",
      "Epoch 10/50\n",
      "7616/7616 [==============================] - 220s 29ms/step - loss: 0.3283 - acc: 0.8409 - val_loss: 0.3928 - val_acc: 0.8723\n",
      "\n",
      "Epoch 00010: val_acc improved from 0.86879 to 0.87234, saving model to model4.h5\n",
      "Epoch 11/50\n",
      "7616/7616 [==============================] - 228s 30ms/step - loss: 0.3217 - acc: 0.8309 - val_loss: 0.3798 - val_acc: 0.8676\n",
      "\n",
      "Epoch 00011: val_acc did not improve from 0.87234\n",
      "Epoch 12/50\n",
      "7616/7616 [==============================] - 239s 31ms/step - loss: 0.2426 - acc: 0.8755 - val_loss: 0.4019 - val_acc: 0.8546\n",
      "\n",
      "Epoch 00012: val_acc did not improve from 0.87234\n",
      "Epoch 13/50\n",
      "7616/7616 [==============================] - 229s 30ms/step - loss: 0.2238 - acc: 0.8813 - val_loss: 0.3492 - val_acc: 0.8712\n",
      "\n",
      "Epoch 00013: val_acc did not improve from 0.87234\n",
      "Epoch 14/50\n",
      "7616/7616 [==============================] - 233s 31ms/step - loss: 0.2281 - acc: 0.8842 - val_loss: 0.4479 - val_acc: 0.8428\n",
      "\n",
      "Epoch 00014: val_acc did not improve from 0.87234\n",
      "Epoch 15/50\n",
      "7616/7616 [==============================] - 240s 32ms/step - loss: 0.2063 - acc: 0.8975 - val_loss: 0.4770 - val_acc: 0.8688\n",
      "\n",
      "Epoch 00015: val_acc did not improve from 0.87234\n",
      "Epoch 16/50\n",
      "7616/7616 [==============================] - 281s 37ms/step - loss: 0.2232 - acc: 0.8873 - val_loss: 0.4252 - val_acc: 0.8534\n",
      "\n",
      "Epoch 00016: val_acc did not improve from 0.87234\n",
      "Epoch 00016: early stopping\n"
     ]
    }
   ],
   "source": [
    "history4 = model4.fit(train_images3,\n",
    "                    train_y3,\n",
    "                    epochs=50,\n",
    "                    batch_size=202,\n",
    "                    validation_data=(val_images3, val_y3), callbacks=callbacks_list, class_weight=weights)"
   ]
  },
  {
   "cell_type": "code",
   "execution_count": 310,
   "metadata": {},
   "outputs": [
    {
     "data": {
      "image/png": "[encoded data removed]",
      "text/plain": [
       "<Figure size 432x288 with 1 Axes>"
      ]
     },
     "metadata": {
      "needs_background": "light"
     },
     "output_type": "display_data"
    },
    {
     "data": {
      "image/png": "[encoded data removed]",
      "text/plain": [
       "<Figure size 432x288 with 1 Axes>"
      ]
     },
     "metadata": {
      "needs_background": "light"
     },
     "output_type": "display_data"
    }
   ],
   "source": [
    "acc = history4.history['acc']\n",
    "val_acc = history4.history['val_acc']\n",
    "loss = history4.history['loss']\n",
    "val_loss = history4.history['val_loss']\n",
    "epochs = range(len(acc))\n",
    "plt.plot(epochs, acc, 'bo', label='Training acc')\n",
    "plt.plot(epochs, val_acc, 'b', label='Validation acc')\n",
    "plt.title('Training and validation accuracy')\n",
    "plt.legend()\n",
    "plt.figure()\n",
    "plt.plot(epochs, loss, 'bo', label='Training loss')\n",
    "plt.plot(epochs, val_loss, 'b', label='Validation loss')\n",
    "plt.title('Training and validation loss')\n",
    "plt.legend()\n",
    "plt.show()"
   ]
  },
  {
   "cell_type": "code",
   "execution_count": 626,
   "metadata": {
    "scrolled": false
   },
   "outputs": [
    {
     "name": "stdout",
     "output_type": "stream",
     "text": [
      "552/552 [==============================] - 6s 10ms/step\n",
      "test acc: 0.7989130434782609\n",
      "test loss: 0.4397424660299135\n"
     ]
    }
   ],
   "source": [
    "test_loss3, test_acc3 = model4.evaluate(test_images3, test_y3)\n",
    "\n",
    "print('test acc:', test_acc3)\n",
    "print('test loss:', test_loss3)"
   ]
  },
  {
   "cell_type": "code",
   "execution_count": 312,
   "metadata": {},
   "outputs": [
    {
     "name": "stdout",
     "output_type": "stream",
     "text": [
      "552/552 [==============================] - 6s 10ms/step\n",
      "test acc: 0.7989130434782609\n",
      "test loss: 0.4397424660299135\n"
     ]
    }
   ],
   "source": [
    "model4.load_weights('model4.h5')\n",
    "test_loss3w, test_acc3w = model4.evaluate(test_images3, test_y3)\n",
    "\n",
    "print('test acc:', test_acc3w)\n",
    "print('test loss:', test_loss3w)"
   ]
  },
  {
   "cell_type": "code",
   "execution_count": 631,
   "metadata": {},
   "outputs": [],
   "source": [
    "y_predcm = (y_pred3 > 0.5)"
   ]
  },
  {
   "cell_type": "code",
   "execution_count": 632,
   "metadata": {
    "scrolled": false
   },
   "outputs": [
    {
     "name": "stdout",
     "output_type": "stream",
     "text": [
      "Normalized confusion matrix\n",
      "[[0.78427419 0.21572581]\n",
      " [0.07142857 0.92857143]]\n"
     ]
    },
    {
     "data": {
      "image/png": "[encoded data removed]",
      "text/plain": [
       "<Figure size 432x288 with 2 Axes>"
      ]
     },
     "metadata": {
      "needs_background": "light"
     },
     "output_type": "display_data"
    }
   ],
   "source": [
    "cm = confusion_matrix(test_y3, y_predcm)\n",
    "\n",
    "plot_confusion_matrix(cm, cm_plot_labels, normalize=True)"
   ]
  },
  {
   "cell_type": "code",
   "execution_count": 584,
   "metadata": {},
   "outputs": [
    {
     "name": "stdout",
     "output_type": "stream",
     "text": [
      "Confusion matrix, without normalization\n",
      "[[366 130]\n",
      " [  0  56]]\n"
     ]
    },
    {
     "data": {
      "image/png": "[encoded data removed]",
      "text/plain": [
       "<Figure size 432x288 with 2 Axes>"
      ]
     },
     "metadata": {
      "needs_background": "light"
     },
     "output_type": "display_data"
    }
   ],
   "source": [
    "cm = confusion_matrix(test_y3, y_predcm)\n",
    "\n",
    "plot_confusion_matrix(cm, cm_plot_labels)"
   ]
  },
  {
   "cell_type": "code",
   "execution_count": 597,
   "metadata": {},
   "outputs": [
    {
     "name": "stdout",
     "output_type": "stream",
     "text": [
      "              precision    recall  f1-score   support\n",
      "\n",
      "      benign       1.00      0.74      0.85       496\n",
      "   malignant       0.30      1.00      0.46        56\n",
      "\n",
      "   micro avg       0.76      0.76      0.76       552\n",
      "   macro avg       0.65      0.87      0.66       552\n",
      "weighted avg       0.93      0.76      0.81       552\n",
      "\n"
     ]
    }
   ],
   "source": [
    "from sklearn.metrics import classification_report\n",
    "\n",
    "# Generate a classification report\n",
    "report = classification_report(test_y3, y_predcm, target_names=cm_plot_labels)\n",
    "\n",
    "print(report)"
   ]
  },
  {
   "cell_type": "markdown",
   "metadata": {},
   "source": [
    "### Recall = Given a malignant lesion, will the classifier be able to detect it?\n",
    "### Precision = Given a prediction from the classifier, how likely is it to be correct?\n",
    "### F1 Score = The harmonic mean of the recall and precision."
   ]
  },
  {
   "cell_type": "code",
   "execution_count": 602,
   "metadata": {},
   "outputs": [
    {
     "name": "stdout",
     "output_type": "stream",
     "text": [
      "Collecting pydot\n",
      "  Downloading https://files.pythonhosted.org/packages/33/d1/b1479a770f66d962f545c2101630ce1d5592d90cb4f083d38862e93d16d2/pydot-1.4.1-py2.py3-none-any.whl\n",
      "Requirement already satisfied: pyparsing>=2.1.4 in /anaconda3/lib/python3.7/site-packages (from pydot) (2.2.0)\n",
      "Installing collected packages: pydot\n",
      "Successfully installed pydot-1.4.1\n"
     ]
    }
   ],
   "source": [
    "!pip install pydot"
   ]
  },
  {
   "cell_type": "code",
   "execution_count": 604,
   "metadata": {},
   "outputs": [
    {
     "ename": "ImportError",
     "evalue": "Failed to import `pydot`. Please install `pydot`. For example with `pip install pydot`.",
     "output_type": "error",
     "traceback": [
      "\u001b[0;31m---------------------------------------------------------------------------\u001b[0m",
      "\u001b[0;31mImportError\u001b[0m                               Traceback (most recent call last)",
      "\u001b[0;32m<ipython-input-604-3689c191e697>\u001b[0m in \u001b[0;36m<module>\u001b[0;34m()\u001b[0m\n\u001b[1;32m      1\u001b[0m \u001b[0;32mimport\u001b[0m \u001b[0mpydot\u001b[0m\u001b[0;34m\u001b[0m\u001b[0;34m\u001b[0m\u001b[0m\n\u001b[1;32m      2\u001b[0m \u001b[0;32mfrom\u001b[0m \u001b[0mkeras\u001b[0m\u001b[0;34m.\u001b[0m\u001b[0mutils\u001b[0m \u001b[0;32mimport\u001b[0m \u001b[0mplot_model\u001b[0m\u001b[0;34m\u001b[0m\u001b[0;34m\u001b[0m\u001b[0m\n\u001b[0;32m----> 3\u001b[0;31m \u001b[0mplot_model\u001b[0m\u001b[0;34m(\u001b[0m\u001b[0mmodel4\u001b[0m\u001b[0;34m,\u001b[0m \u001b[0mto_file\u001b[0m\u001b[0;34m=\u001b[0m\u001b[0;34m'model4.png'\u001b[0m\u001b[0;34m)\u001b[0m\u001b[0;34m\u001b[0m\u001b[0;34m\u001b[0m\u001b[0m\n\u001b[0m",
      "\u001b[0;32m/anaconda3/lib/python3.7/site-packages/keras/utils/vis_utils.py\u001b[0m in \u001b[0;36mplot_model\u001b[0;34m(model, to_file, show_shapes, show_layer_names, rankdir)\u001b[0m\n\u001b[1;32m    130\u001b[0m             \u001b[0;34m'LR'\u001b[0m \u001b[0mcreates\u001b[0m \u001b[0ma\u001b[0m \u001b[0mhorizontal\u001b[0m \u001b[0mplot\u001b[0m\u001b[0;34m.\u001b[0m\u001b[0;34m\u001b[0m\u001b[0;34m\u001b[0m\u001b[0m\n\u001b[1;32m    131\u001b[0m     \"\"\"\n\u001b[0;32m--> 132\u001b[0;31m     \u001b[0mdot\u001b[0m \u001b[0;34m=\u001b[0m \u001b[0mmodel_to_dot\u001b[0m\u001b[0;34m(\u001b[0m\u001b[0mmodel\u001b[0m\u001b[0;34m,\u001b[0m \u001b[0mshow_shapes\u001b[0m\u001b[0;34m,\u001b[0m \u001b[0mshow_layer_names\u001b[0m\u001b[0;34m,\u001b[0m \u001b[0mrankdir\u001b[0m\u001b[0;34m)\u001b[0m\u001b[0;34m\u001b[0m\u001b[0;34m\u001b[0m\u001b[0m\n\u001b[0m\u001b[1;32m    133\u001b[0m     \u001b[0m_\u001b[0m\u001b[0;34m,\u001b[0m \u001b[0mextension\u001b[0m \u001b[0;34m=\u001b[0m \u001b[0mos\u001b[0m\u001b[0;34m.\u001b[0m\u001b[0mpath\u001b[0m\u001b[0;34m.\u001b[0m\u001b[0msplitext\u001b[0m\u001b[0;34m(\u001b[0m\u001b[0mto_file\u001b[0m\u001b[0;34m)\u001b[0m\u001b[0;34m\u001b[0m\u001b[0;34m\u001b[0m\u001b[0m\n\u001b[1;32m    134\u001b[0m     \u001b[0;32mif\u001b[0m \u001b[0;32mnot\u001b[0m \u001b[0mextension\u001b[0m\u001b[0;34m:\u001b[0m\u001b[0;34m\u001b[0m\u001b[0;34m\u001b[0m\u001b[0m\n",
      "\u001b[0;32m/anaconda3/lib/python3.7/site-packages/keras/utils/vis_utils.py\u001b[0m in \u001b[0;36mmodel_to_dot\u001b[0;34m(model, show_shapes, show_layer_names, rankdir)\u001b[0m\n\u001b[1;32m     53\u001b[0m     \u001b[0;32mfrom\u001b[0m \u001b[0;34m.\u001b[0m\u001b[0;34m.\u001b[0m\u001b[0mmodels\u001b[0m \u001b[0;32mimport\u001b[0m \u001b[0mSequential\u001b[0m\u001b[0;34m\u001b[0m\u001b[0;34m\u001b[0m\u001b[0m\n\u001b[1;32m     54\u001b[0m \u001b[0;34m\u001b[0m\u001b[0m\n\u001b[0;32m---> 55\u001b[0;31m     \u001b[0m_check_pydot\u001b[0m\u001b[0;34m(\u001b[0m\u001b[0;34m)\u001b[0m\u001b[0;34m\u001b[0m\u001b[0;34m\u001b[0m\u001b[0m\n\u001b[0m\u001b[1;32m     56\u001b[0m     \u001b[0mdot\u001b[0m \u001b[0;34m=\u001b[0m \u001b[0mpydot\u001b[0m\u001b[0;34m.\u001b[0m\u001b[0mDot\u001b[0m\u001b[0;34m(\u001b[0m\u001b[0;34m)\u001b[0m\u001b[0;34m\u001b[0m\u001b[0;34m\u001b[0m\u001b[0m\n\u001b[1;32m     57\u001b[0m     \u001b[0mdot\u001b[0m\u001b[0;34m.\u001b[0m\u001b[0mset\u001b[0m\u001b[0;34m(\u001b[0m\u001b[0;34m'rankdir'\u001b[0m\u001b[0;34m,\u001b[0m \u001b[0mrankdir\u001b[0m\u001b[0;34m)\u001b[0m\u001b[0;34m\u001b[0m\u001b[0;34m\u001b[0m\u001b[0m\n",
      "\u001b[0;32m/anaconda3/lib/python3.7/site-packages/keras/utils/vis_utils.py\u001b[0m in \u001b[0;36m_check_pydot\u001b[0;34m()\u001b[0m\n\u001b[1;32m     18\u001b[0m     \u001b[0;32mif\u001b[0m \u001b[0mpydot\u001b[0m \u001b[0;32mis\u001b[0m \u001b[0;32mNone\u001b[0m\u001b[0;34m:\u001b[0m\u001b[0;34m\u001b[0m\u001b[0;34m\u001b[0m\u001b[0m\n\u001b[1;32m     19\u001b[0m         raise ImportError(\n\u001b[0;32m---> 20\u001b[0;31m             \u001b[0;34m'Failed to import `pydot`. '\u001b[0m\u001b[0;34m\u001b[0m\u001b[0;34m\u001b[0m\u001b[0m\n\u001b[0m\u001b[1;32m     21\u001b[0m             \u001b[0;34m'Please install `pydot`. '\u001b[0m\u001b[0;34m\u001b[0m\u001b[0;34m\u001b[0m\u001b[0m\n\u001b[1;32m     22\u001b[0m             'For example with `pip install pydot`.')\n",
      "\u001b[0;31mImportError\u001b[0m: Failed to import `pydot`. Please install `pydot`. For example with `pip install pydot`."
     ]
    }
   ],
   "source": [
    "import pydot\n",
    "from keras.utils import plot_model\n",
    "plot_model(model4, to_file='model4.png')"
   ]
  },
  {
   "cell_type": "code",
   "execution_count": 338,
   "metadata": {
    "scrolled": true
   },
   "outputs": [],
   "source": [
    "images=glob(\"../dsc-4-final-project-online-ds-ft-112618/base_dir/test_dir/malignant/*.jpg\")"
   ]
  },
  {
   "cell_type": "code",
   "execution_count": 339,
   "metadata": {
    "scrolled": false
   },
   "outputs": [],
   "source": [
    "for i in images:\n",
    "    \n",
    "    img = image.load_img(i, target_size=(255,255))\n",
    "    img_tensor = image.img_to_array(img)\n",
    "    img_tensor = np.expand_dims(img_tensor, axis=0)\n",
    "    img_tensor /= 255.\n"
   ]
  },
  {
   "cell_type": "code",
   "execution_count": 340,
   "metadata": {},
   "outputs": [
    {
     "data": {
      "text/plain": [
       "(56, 150, 150, 3)"
      ]
     },
     "execution_count": 340,
     "metadata": {},
     "output_type": "execute_result"
    }
   ],
   "source": [
    "to_classify = []\n",
    "for i in images:\n",
    "    img = image.load_img(i, target_size=(150,150))\n",
    "    x = image.img_to_array(img)\n",
    "    x = np.expand_dims(x, axis=0)\n",
    "    images3 = np.vstack([x])\n",
    "    to_classify.append(images3)\n",
    "final = np.concatenate(to_classify)\n",
    "\n",
    "final.shape"
   ]
  },
  {
   "cell_type": "code",
   "execution_count": 342,
   "metadata": {},
   "outputs": [],
   "source": [
    "classes = model4.predict_classes(final, batch_size=56)\n",
    "for c in classes:\n",
    "    if c == 0:\n",
    "        print(\"Predicted class is:\",c)\n",
    "        img_tensor = image.img_to_array(img)\n",
    "        img_tensor = np.expand_dims(img_tensor, axis=0)\n",
    "        img_tensor /= 255.\n",
    "        plt.imshow(img_tensor[0])\n",
    "        plt.show()\n",
    "        print(img_tensor.shape)"
   ]
  },
  {
   "cell_type": "markdown",
   "metadata": {},
   "source": [
    "<a id='Part_5'></a>"
   ]
  },
  {
   "cell_type": "markdown",
   "metadata": {},
   "source": [
    "# Final Model! "
   ]
  },
  {
   "cell_type": "code",
   "execution_count": 343,
   "metadata": {},
   "outputs": [],
   "source": [
    "model4.save('model4.h5')"
   ]
  },
  {
   "cell_type": "markdown",
   "metadata": {},
   "source": [
    "<a id='Part_6'></a>"
   ]
  },
  {
   "cell_type": "markdown",
   "metadata": {},
   "source": [
    "# Conclusions:"
   ]
  },
  {
   "cell_type": "markdown",
   "metadata": {},
   "source": [
    "* Malignant skin lesions can be detected with 76% accuracy and 100% Recall in order to guide clinical next steps (i.e. biopsy, invasive surgery, or no action at all)\n",
    "* Cost saving can be achieved in the health care community with the utilization of this model combined with astute clinical judgement \n",
    "* A reduction in patient anxiety will also be seen as a result of fewer biopsies and stressful waiting periods for results"
   ]
  },
  {
   "cell_type": "markdown",
   "metadata": {},
   "source": [
    "<a id='Part_7'></a>"
   ]
  },
  {
   "cell_type": "markdown",
   "metadata": {},
   "source": [
    "# Recommendations:"
   ]
  },
  {
   "cell_type": "markdown",
   "metadata": {},
   "source": [
    "* Improve model to include more images of skin lesions\n",
    "* Seek to include more malignant images to improve class imbalance\n",
    "* Secure funding for a study that submits additional photos and biopsy results to make the model more robust"
   ]
  },
  {
   "cell_type": "markdown",
   "metadata": {},
   "source": [
    "<a id='Part_8'></a>"
   ]
  },
  {
   "cell_type": "markdown",
   "metadata": {},
   "source": [
    "# Future Work:"
   ]
  },
  {
   "cell_type": "markdown",
   "metadata": {},
   "source": [
    "* Design and implement study to include more images of biopsied lesions\n",
    "* Consider the establishment of guidelines for skin biopsy with the utilization of image capturing \n",
    "* Continuous improvements to model as new information/data is obtained"
   ]
  }
 ],
 "metadata": {
  "kernelspec": {
   "display_name": "Python 3",
   "language": "python",
   "name": "python3"
  },
  "language_info": {
   "codemirror_mode": {
    "name": "ipython",
    "version": 3
   },
   "file_extension": ".py",
   "mimetype": "text/x-python",
   "name": "python",
   "nbconvert_exporter": "python",
   "pygments_lexer": "ipython3",
   "version": "3.7.2"
  }
 },
 "nbformat": 4,
 "nbformat_minor": 2
}
